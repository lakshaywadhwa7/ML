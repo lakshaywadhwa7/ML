{
  "nbformat": 4,
  "nbformat_minor": 0,
  "metadata": {
    "colab": {
      "name": "Linear_Regression.ipynb",
      "provenance": [],
      "collapsed_sections": []
    },
    "kernelspec": {
      "name": "python3",
      "display_name": "Python 3"
    },
    "language_info": {
      "name": "python"
    }
  },
  "cells": [
    {
      "cell_type": "code",
      "execution_count": null,
      "metadata": {
        "id": "kpPqeLOzunFK"
      },
      "outputs": [],
      "source": [
        "import numpy as np\n",
        "import pandas as pd\n",
        "import matplotlib.pyplot as plt\n",
        "from matplotlib import rcParams\n",
        "rcParams['figure.figsize'] = (14, 7)\n",
        "rcParams['axes.spines.top'] = False\n",
        "rcParams['axes.spines.right'] = False\n"
      ]
    },
    {
      "cell_type": "code",
      "source": [
        "from sklearn.datasets import load_diabetes\n",
        "data = load_diabetes()\n",
        "X = data.data\n",
        "y = data.target"
      ],
      "metadata": {
        "id": "JpUOTn4mKfTy"
      },
      "execution_count": null,
      "outputs": []
    },
    {
      "cell_type": "code",
      "source": [
        "'''Note: Each of these 10 feature variables have been mean centered and scaled by the standard deviation times n_samples (i.e. the sum of squares of each column totals 1).'''"
      ],
      "metadata": {
        "colab": {
          "base_uri": "https://localhost:8080/",
          "height": 37
        },
        "id": "hC1wRdBAdm6v",
        "outputId": "f8c1b0ef-076e-4d18-859d-7e97bbe61b8c"
      },
      "execution_count": null,
      "outputs": [
        {
          "output_type": "execute_result",
          "data": {
            "application/vnd.google.colaboratory.intrinsic+json": {
              "type": "string"
            },
            "text/plain": [
              "'Note: Each of these 10 feature variables have been mean centered and scaled by the standard deviation times n_samples (i.e. the sum of squares of each column totals 1).'"
            ]
          },
          "metadata": {},
          "execution_count": 3
        }
      ]
    },
    {
      "cell_type": "code",
      "source": [
        "'''Atrribute information\n",
        "1. age age in years\n",
        "2. sex\n",
        "3. bmi body mass index\n",
        "4. bp average blood pressure\n",
        "5. s1 tc, total serum cholesterol\n",
        "6. s2 ldl, low-density lipoproteins\n",
        "7. s3 hdl, high-density lipoproteins\n",
        "8. s4 tch, total cholesterol / HDL\n",
        "9. s5 ltg, possibly log of serum triglycerides level\n",
        "10.s6 glu, blood sugar level\n",
        "'''"
      ],
      "metadata": {
        "colab": {
          "base_uri": "https://localhost:8080/",
          "height": 54
        },
        "id": "_TXw1Di-d0Lz",
        "outputId": "3eba019f-73a4-4dda-e3e7-4bf9ca8df4ad"
      },
      "execution_count": null,
      "outputs": [
        {
          "output_type": "execute_result",
          "data": {
            "application/vnd.google.colaboratory.intrinsic+json": {
              "type": "string"
            },
            "text/plain": [
              "'Atrribute information\\n1. age age in years\\n2. sex\\n3. bmi body mass index\\n4. bp average blood pressure\\n5. s1 tc, total serum cholesterol\\n6. s2 ldl, low-density lipoproteins\\n7. s3 hdl, high-density lipoproteins\\n8. s4 tch, total cholesterol / HDL\\n9. s5 ltg, possibly log of serum triglycerides level\\n10.s6 glu, blood sugar level\\n'"
            ]
          },
          "metadata": {},
          "execution_count": 4
        }
      ]
    },
    {
      "cell_type": "code",
      "source": [
        "'''shape of input'''\n",
        "X.shape\n"
      ],
      "metadata": {
        "colab": {
          "base_uri": "https://localhost:8080/"
        },
        "id": "xAO9TbYQcbn-",
        "outputId": "be2ba9af-2655-4e9d-810d-d37a00ddfdbf"
      },
      "execution_count": null,
      "outputs": [
        {
          "output_type": "execute_result",
          "data": {
            "text/plain": [
              "(442, 10)"
            ]
          },
          "metadata": {},
          "execution_count": 5
        }
      ]
    },
    {
      "cell_type": "code",
      "source": [
        "'''shape of output'''\n",
        "y.shape"
      ],
      "metadata": {
        "colab": {
          "base_uri": "https://localhost:8080/"
        },
        "id": "OA4HMzlhcmLC",
        "outputId": "f14c1082-8d73-4c96-c332-3fc66b31ecd7"
      },
      "execution_count": null,
      "outputs": [
        {
          "output_type": "execute_result",
          "data": {
            "text/plain": [
              "(442,)"
            ]
          },
          "metadata": {},
          "execution_count": 6
        }
      ]
    },
    {
      "cell_type": "code",
      "source": [
        "class LinearRegression:\n",
        "    '''\n",
        "    A class which implements linear regression model with gradient descent.\n",
        "    '''\n",
        "    def __init__(self, learning_rate=0.01, n_iterations=10000):\n",
        "        self.learning_rate = learning_rate\n",
        "        self.n_iterations = n_iterations\n",
        "        self.weights, self.bias = None, None\n",
        "        self.loss = []\n",
        "        \n",
        "    @staticmethod\n",
        "    def _mean_squared_error(y, y_hat):\n",
        "        error = 0\n",
        "        for i in range(len(y)):\n",
        "            error += (y[i] - y_hat[i]) ** 2\n",
        "        return error / len(y)\n",
        "    \n",
        "    def fit(self, X, y):\n",
        "        # 1. Initialize weights and bias to zeros\n",
        "        self.weights = np.zeros(X.shape[1])\n",
        "        self.bias = 0\n",
        "        \n",
        "        # 2. Perform gradient descent\n",
        "        for i in range(self.n_iterations):\n",
        "            # Line equation\n",
        "            y_hat = np.dot(X, self.weights) + self.bias\n",
        "            loss = self._mean_squared_error(y, y_hat)\n",
        "            self.loss.append(loss)\n",
        "            \n",
        "            # Calculate derivatives\n",
        "            partial_w = (1 / X.shape[0]) * (2 * np.dot(X.T, (y_hat - y)))\n",
        "            partial_d = (1 / X.shape[0]) * (2 * np.sum(y_hat - y))\n",
        "            \n",
        "            # Update the coefficients\n",
        "            self.weights -= self.learning_rate * partial_w\n",
        "            self.bias -= self.learning_rate * partial_d\n",
        "        \n",
        "        \n",
        "    def predict(self, X):\n",
        "        return np.dot(X, self.weights) + self.bias"
      ],
      "metadata": {
        "id": "qS34Qm--BFva"
      },
      "execution_count": null,
      "outputs": []
    },
    {
      "cell_type": "code",
      "source": [
        "from sklearn.model_selection import train_test_split\n",
        "\n",
        "X_train, X_test, y_train, y_test = train_test_split(X, y, test_size=0.2, random_state=42)\n",
        "\n",
        "model = LinearRegression()\n",
        "model.fit(X_train, y_train)\n",
        "preds = model.predict(X_test)"
      ],
      "metadata": {
        "id": "MZnymUkvBpX8"
      },
      "execution_count": null,
      "outputs": []
    },
    {
      "cell_type": "code",
      "source": [
        "iteration = np.arange(len(model.loss))\n",
        "model_loss = model.loss\n",
        "plt.plot(iteration, model_loss)\n",
        "plt.title('Loss per iteration (MSE)', size=20)\n",
        "plt.xlabel('Iteration', size=13)\n",
        "plt.ylabel('Loss', size=13)\n",
        "plt.show()"
      ],
      "metadata": {
        "colab": {
          "base_uri": "https://localhost:8080/",
          "height": 303
        },
        "id": "G1dZTRh7BsZ7",
        "outputId": "9e757778-77f9-4c76-9ad3-60864c3cd1cf"
      },
      "execution_count": null,
      "outputs": [
        {
          "output_type": "display_data",
          "data": {
            "image/png": "[encoded data removed]",
            "text/plain": [
              "<Figure size 432x288 with 1 Axes>"
            ]
          },
          "metadata": {
            "needs_background": "light"
          }
        }
      ]
    },
    {
      "cell_type": "code",
      "source": [
        "losses = {}\n",
        "for lr in [0.5, 0.1, 0.01, 0.001]:\n",
        "    model = LinearRegression(learning_rate=lr)\n",
        "    model.fit(X_train, y_train)\n",
        "    losses[f'LR={str(lr)}'] = model.loss\n",
        "\n",
        "iteration = np.arange(len(model.loss))\n",
        "\n",
        "plt.plot(iteration, losses['LR=0.5'], lw=3, label=f\"LR = 0.5, Final = {losses['LR=0.5'][-1]:.2f}\")\n",
        "plt.plot(iteration, losses['LR=0.1'], lw=3, label=f\"LR = 0.1, Final = {losses['LR=0.1'][-1]:.2f}\")\n",
        "plt.plot(iteration, losses['LR=0.01'], lw=3, label=f\"LR = 0.01, Final = {losses['LR=0.01'][-1]:.2f}\")\n",
        "plt.plot(iteration, losses['LR=0.001'], lw=3, label=f\"LR = 0.001, Final = {losses['LR=0.001'][-1]:.2f}\")\n",
        "plt.title('Loss per iteration (MSE) for different learning rates', size=20)\n",
        "plt.xlabel('Iteration', size=14)\n",
        "plt.ylabel('Loss', size=14)\n",
        "plt.legend()\n",
        "plt.show()"
      ],
      "metadata": {
        "colab": {
          "base_uri": "https://localhost:8080/",
          "height": 304
        },
        "id": "Lbt-qvN1MCEW",
        "outputId": "f2e7b632-458d-4a1a-fdae-4069b1a1f1f6"
      },
      "execution_count": null,
      "outputs": [
        {
          "output_type": "display_data",
          "data": {
            "image/png": "[encoded data removed]",
            "text/plain": [
              "<Figure size 432x288 with 1 Axes>"
            ]
          },
          "metadata": {
            "needs_background": "light"
          }
        }
      ]
    },
    {
      "cell_type": "code",
      "source": [
        "model = LinearRegression(learning_rate=0.5)\n",
        "model.fit(X_train, y_train)\n",
        "preds = model.predict(X_test)\n",
        "\n",
        "model._mean_squared_error(y_test, preds)"
      ],
      "metadata": {
        "colab": {
          "base_uri": "https://localhost:8080/"
        },
        "id": "-UN7b-X1MFRw",
        "outputId": "7c7c5ae3-f6ea-4aef-ebc0-8fd0a8d159e1"
      },
      "execution_count": null,
      "outputs": [
        {
          "output_type": "execute_result",
          "data": {
            "text/plain": [
              "2885.8431887424276"
            ]
          },
          "metadata": {},
          "execution_count": 11
        }
      ]
    }
  ]
}