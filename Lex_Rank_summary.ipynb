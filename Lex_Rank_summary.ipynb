{
 "cells": [
  {
   "cell_type": "code",
   "execution_count": null,
   "id": "941cf8c7",
   "metadata": {},
   "outputs": [],
   "source": [
    "!pip install fastparquet"
   ]
  },
  {
   "cell_type": "code",
   "execution_count": null,
   "id": "8d857ba5",
   "metadata": {},
   "outputs": [],
   "source": [
    "from pathlib import Path\n",
    "import pandas as pd\n",
    "\n",
    "data_dir = Path('/path/')\n",
    "full_df = pd.concat(\n",
    "    pd.read_parquet(parquet_file)\n",
    "    for parquet_file in data_dir.glob('*.parquet')\n",
    ")"
   ]
  },
  {
   "cell_type": "code",
   "execution_count": null,
   "id": "a04efe51",
   "metadata": {},
   "outputs": [],
   "source": [
    "final_df=full_df.drop_duplicates(subset=['text'], keep=False).reset_index(drop=True)"
   ]
  },
  {
   "cell_type": "code",
   "execution_count": null,
   "id": "09dadd35",
   "metadata": {},
   "outputs": [],
   "source": [
    "data_appended=\"\""
   ]
  },
  {
   "cell_type": "code",
   "execution_count": null,
   "id": "cccc94fb",
   "metadata": {},
   "outputs": [],
   "source": [
    "for i in range(0,len(final_df)):\n",
    "    data_appended=data_appended+final_df['text'][i]"
   ]
  },
  {
   "cell_type": "code",
   "execution_count": null,
   "id": "a006bf21",
   "metadata": {},
   "outputs": [],
   "source": [
    "!pip install lexrank"
   ]
  },
  {
   "cell_type": "code",
   "execution_count": null,
   "id": "dc8d69c0",
   "metadata": {},
   "outputs": [],
   "source": [
    "from lexrank import STOPWORDS, LexRank\n",
    "from path import Path\n"
   ]
  },
  {
   "cell_type": "code",
   "execution_count": null,
   "id": "1edeb2c8",
   "metadata": {},
   "outputs": [],
   "source": [
    "lxr = LexRank(data_appended)"
   ]
  },
  {
   "cell_type": "code",
   "execution_count": null,
   "id": "d6a9b036",
   "metadata": {},
   "outputs": [],
   "source": [
    "lxr"
   ]
  },
  {
   "cell_type": "code",
   "execution_count": null,
   "id": "2201f090",
   "metadata": {},
   "outputs": [],
   "source": [
    "sentences = [\n",
    "    'तीन लोकसभा और सात विधानसभा सीटों पर 23 जून को उपचुनाव हुए थे।',' इसमें उत्तर प्रदेश की रामपुर और आजमगढ़ सीट को भाजपा ने समाजवादी पार्टी से छीन लिया।',' यहां रामपुर से भाजपा के उम्मीदवार घनश्याम लोधी और आजमगढ़ से दिनेश लाल यादव उर्फ निरहुआ ने जीत हासिल की।',' 2019 में इन दोनों सीटों पर समाजवादी पार्टी की जीत हुई थी।',' वहीं, भगवंत मान के इस्तीफे के बाद खाली हुई पंजाब की संगरूर लोकसभा सीट पर शिरोमणि अकाली दल (अमृतसर) ने आम आदमी पार्टी के प्रत्याशी को शिकस्त दी।',' दूसरी ओर विधानसभा सीटों की बात करें तो त्रिपुरा की चार सीटों में से तीन पर भाजपा और एक सीट पर कांग्रेस प्रत्याशी ने जीत हासिल की।',' आंध्र प्रदेश की आत्मकुर सीट पर वाईएसआर कांग्रेस, दिल्ली की राजिंदर नगर सीट पर आम आदमी पार्टी के प्रत्याशी ने जीत हासिल की है।',' झारखंड के रांची स्थित मांडर विधानसभा सीट पर कांग्रेस प्रत्याशी शिल्पी नेहा तिर्की विजेता घोषित की गईं।'\n",
    "]\n"
   ]
  },
  {
   "cell_type": "code",
   "execution_count": null,
   "id": "41eb3966",
   "metadata": {},
   "outputs": [],
   "source": [
    "summary = lxr.get_summary(sentences, summary_size=2, threshold=.1)"
   ]
  },
  {
   "cell_type": "code",
   "execution_count": null,
   "id": "c597390a",
   "metadata": {},
   "outputs": [],
   "source": [
    "print(summary)"
   ]
  }
 ],
 "metadata": {
  "kernelspec": {
   "display_name": "Python 3 (ipykernel)",
   "language": "python",
   "name": "python3"
  },
  "language_info": {
   "codemirror_mode": {
    "name": "ipython",
    "version": 3
   },
   "file_extension": ".py",
   "mimetype": "text/x-python",
   "name": "python",
   "nbconvert_exporter": "python",
   "pygments_lexer": "ipython3",
   "version": "3.9.7"
  }
 },
 "nbformat": 4,
 "nbformat_minor": 5
}
