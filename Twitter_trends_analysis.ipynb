{
 "cells": [
  {
   "cell_type": "code",
   "execution_count": 1,
   "id": "f881683d",
   "metadata": {},
   "outputs": [
    {
     "name": "stdout",
     "output_type": "stream",
     "text": [
      "Collecting tweepy\n",
      "  Downloading tweepy-4.6.0-py2.py3-none-any.whl (69 kB)\n",
      "\u001b[2K     \u001b[90m━━━━━━━━━━━━━━━━━━━━━━━━━━━━━━━━━━━━━━━\u001b[0m \u001b[32m69.3/69.3 KB\u001b[0m \u001b[31m755.6 kB/s\u001b[0m eta \u001b[36m0:00:00\u001b[0ma \u001b[36m0:00:01\u001b[0m\n",
      "\u001b[?25hCollecting oauthlib<4,>=3.2.0\n",
      "  Downloading oauthlib-3.2.0-py3-none-any.whl (151 kB)\n",
      "\u001b[2K     \u001b[90m━━━━━━━━━━━━━━━━━━━━━━━━━━━━━━━━━━━━━━━\u001b[0m \u001b[32m151.5/151.5 KB\u001b[0m \u001b[31m1.9 MB/s\u001b[0m eta \u001b[36m0:00:00\u001b[0ma \u001b[36m0:00:01\u001b[0m\n",
      "\u001b[?25hCollecting requests-oauthlib<2,>=1.2.0\n",
      "  Downloading requests_oauthlib-1.3.1-py2.py3-none-any.whl (23 kB)\n",
      "Collecting requests<3,>=2.27.0\n",
      "  Using cached requests-2.27.1-py2.py3-none-any.whl (63 kB)\n",
      "Requirement already satisfied: certifi>=2017.4.17 in /Users/lakshaywadhwa/opt/anaconda3/lib/python3.9/site-packages (from requests<3,>=2.27.0->tweepy) (2021.10.8)\n",
      "Requirement already satisfied: charset-normalizer~=2.0.0 in /Users/lakshaywadhwa/opt/anaconda3/lib/python3.9/site-packages (from requests<3,>=2.27.0->tweepy) (2.0.4)\n",
      "Requirement already satisfied: urllib3<1.27,>=1.21.1 in /Users/lakshaywadhwa/opt/anaconda3/lib/python3.9/site-packages (from requests<3,>=2.27.0->tweepy) (1.25.11)\n",
      "Requirement already satisfied: idna<4,>=2.5 in /Users/lakshaywadhwa/opt/anaconda3/lib/python3.9/site-packages (from requests<3,>=2.27.0->tweepy) (2.8)\n",
      "Installing collected packages: requests, oauthlib, requests-oauthlib, tweepy\n",
      "  Attempting uninstall: requests\n",
      "    Found existing installation: requests 2.22.0\n",
      "    Uninstalling requests-2.22.0:\n",
      "      Successfully uninstalled requests-2.22.0\n",
      "\u001b[31mERROR: pip's dependency resolver does not currently take into account all the packages that are installed. This behaviour is the source of the following dependency conflicts.\n",
      "conda-repo-cli 1.0.4 requires pathlib, which is not installed.\n",
      "anaconda-project 0.10.1 requires ruamel-yaml, which is not installed.\u001b[0m\u001b[31m\n",
      "\u001b[0mSuccessfully installed oauthlib-3.2.0 requests-2.27.1 requests-oauthlib-1.3.1 tweepy-4.6.0\n"
     ]
    }
   ],
   "source": [
    "!pip install tweepy"
   ]
  },
  {
   "cell_type": "code",
   "execution_count": 2,
   "id": "7fd1f89c",
   "metadata": {},
   "outputs": [
    {
     "name": "stdout",
     "output_type": "stream",
     "text": [
      "Requirement already satisfied: numpy in /Users/lakshaywadhwa/opt/anaconda3/lib/python3.9/site-packages (1.20.3)\r\n"
     ]
    }
   ],
   "source": [
    "!pip install numpy"
   ]
  },
  {
   "cell_type": "code",
   "execution_count": 3,
   "id": "28f582ca",
   "metadata": {},
   "outputs": [
    {
     "name": "stdout",
     "output_type": "stream",
     "text": [
      "Requirement already satisfied: requests in /Users/lakshaywadhwa/opt/anaconda3/lib/python3.9/site-packages (2.27.1)\r\n",
      "Requirement already satisfied: idna<4,>=2.5 in /Users/lakshaywadhwa/opt/anaconda3/lib/python3.9/site-packages (from requests) (2.8)\r\n",
      "Requirement already satisfied: urllib3<1.27,>=1.21.1 in /Users/lakshaywadhwa/opt/anaconda3/lib/python3.9/site-packages (from requests) (1.25.11)\r\n",
      "Requirement already satisfied: charset-normalizer~=2.0.0 in /Users/lakshaywadhwa/opt/anaconda3/lib/python3.9/site-packages (from requests) (2.0.4)\r\n",
      "Requirement already satisfied: certifi>=2017.4.17 in /Users/lakshaywadhwa/opt/anaconda3/lib/python3.9/site-packages (from requests) (2021.10.8)\r\n"
     ]
    }
   ],
   "source": [
    "!pip install requests"
   ]
  },
  {
   "cell_type": "code",
   "execution_count": 4,
   "id": "fabb6d55",
   "metadata": {},
   "outputs": [],
   "source": [
    "import numpy as np\n",
    "import tweepy\n",
    "import requests\n",
    "import base64"
   ]
  },
  {
   "cell_type": "code",
   "execution_count": 6,
   "id": "3d44e40e",
   "metadata": {},
   "outputs": [],
   "source": [
    "consumer_key = 'xxxxxx'\n",
    "consumer_secret = 'xxxxxxxxx'"
   ]
  },
  {
   "cell_type": "code",
   "execution_count": 8,
   "id": "3723567b",
   "metadata": {},
   "outputs": [],
   "source": [
    "#Reformat the keys and encode them\n",
    "key_secret = '{}:{}'.format(consumer_key, consumer_secret).encode('ascii')\n",
    "#Transform from bytes to bytes that can be printed\n",
    "b64_encoded_key = base64.b64encode(key_secret)\n",
    "#Transform from bytes back into Unicode\n",
    "b64_encoded_key = b64_encoded_key.decode('ascii')"
   ]
  },
  {
   "cell_type": "code",
   "execution_count": 10,
   "id": "5b429a92",
   "metadata": {},
   "outputs": [
    {
     "name": "stdout",
     "output_type": "stream",
     "text": [
      "200\n"
     ]
    }
   ],
   "source": [
    "base_url = 'https://api.twitter.com/'\n",
    "auth_url = '{}oauth2/token'.format(base_url)\n",
    "auth_headers = {\n",
    "    'Authorization': 'Basic {}'.format(b64_encoded_key),\n",
    "    'Content-Type': 'application/x-www-form-urlencoded;charset=UTF-8'\n",
    "}\n",
    "auth_data = {\n",
    "    'grant_type': 'client_credentials'\n",
    "}\n",
    "auth_resp = requests.post(auth_url, headers=auth_headers, data=auth_data)\n",
    "print(auth_resp.status_code)\n",
    "access_token = auth_resp.json()['access_token']\n"
   ]
  },
  {
   "cell_type": "code",
   "execution_count": 22,
   "id": "2878381b",
   "metadata": {},
   "outputs": [],
   "source": [
    "trend_headers = {\n",
    "    'Authorization': 'Bearer {}'.format(access_token)    \n",
    "}\n",
    "\n",
    "trend_params = {\n",
    "    'id': 20070458,\n",
    "}\n",
    "\n",
    "trend_url = 'https://api.twitter.com/1.1/trends/place.json'  \n",
    "trend_resp = requests.get(trend_url, headers=trend_headers, params=trend_params)"
   ]
  },
  {
   "cell_type": "code",
   "execution_count": 23,
   "id": "8b2cb372",
   "metadata": {},
   "outputs": [
    {
     "name": "stdout",
     "output_type": "stream",
     "text": [
      "[{'trends': [{'name': '#PowerUpWithOPPO', 'url': 'http://twitter.com/search?q=%23PowerUpWithOPPO', 'promoted_content': None, 'query': '%23PowerUpWithOPPO', 'tweet_volume': None}, {'name': '#Pathaan', 'url': 'http://twitter.com/search?q=%23Pathaan', 'promoted_content': None, 'query': '%23Pathaan', 'tweet_volume': 91939}, {'name': '#RadheShyamReleaseTrailer', 'url': 'http://twitter.com/search?q=%23RadheShyamReleaseTrailer', 'promoted_content': None, 'query': '%23RadheShyamReleaseTrailer', 'tweet_volume': 82864}, {'name': '#WeSupportMansukhVasava', 'url': 'http://twitter.com/search?q=%23WeSupportMansukhVasava', 'promoted_content': None, 'query': '%23WeSupportMansukhVasava', 'tweet_volume': None}, {'name': '#MOURITechHailsKBFC', 'url': 'http://twitter.com/search?q=%23MOURITechHailsKBFC', 'promoted_content': None, 'query': '%23MOURITechHailsKBFC', 'tweet_volume': None}, {'name': 'RULA DETI HAI OUT TOMORROW', 'url': 'http://twitter.com/search?q=%22RULA+DETI+HAI+OUT+TOMORROW%22', 'promoted_content': None, 'query': '%22RULA+DETI+HAI+OUT+TOMORROW%22', 'tweet_volume': 949014}, {'name': 'Last Kdrama', 'url': 'http://twitter.com/search?q=%22Last+Kdrama%22', 'promoted_content': None, 'query': '%22Last+Kdrama%22', 'tweet_volume': 10735}, {'name': 'First Kdrama', 'url': 'http://twitter.com/search?q=%22First+Kdrama%22', 'promoted_content': None, 'query': '%22First+Kdrama%22', 'tweet_volume': 11211}, {'name': 'KING IS BACK', 'url': 'http://twitter.com/search?q=%22KING+IS+BACK%22', 'promoted_content': None, 'query': '%22KING+IS+BACK%22', 'tweet_volume': 17101}, {'name': 'soobin', 'url': 'http://twitter.com/search?q=soobin', 'promoted_content': None, 'query': 'soobin', 'tweet_volume': 37077}, {'name': 'SSR Murder Truth Will Be Out', 'url': 'http://twitter.com/search?q=%22SSR+Murder+Truth+Will+Be+Out%22', 'promoted_content': None, 'query': '%22SSR+Murder+Truth+Will+Be+Out%22', 'tweet_volume': 30106}, {'name': 'CBI BURST SSR MURDER TRUTH', 'url': 'http://twitter.com/search?q=%22CBI+BURST+SSR+MURDER+TRUTH%22', 'promoted_content': None, 'query': '%22CBI+BURST+SSR+MURDER+TRUTH%22', 'tweet_volume': 41078}, {'name': 'Announcement', 'url': 'http://twitter.com/search?q=Announcement', 'promoted_content': None, 'query': 'Announcement', 'tweet_volume': 178461}, {'name': 'Iranian', 'url': 'http://twitter.com/search?q=Iranian', 'promoted_content': None, 'query': 'Iranian', 'tweet_volume': 78919}, {'name': 'Nightingale of India', 'url': 'http://twitter.com/search?q=%22Nightingale+of+India%22', 'promoted_content': None, 'query': '%22Nightingale+of+India%22', 'tweet_volume': None}, {'name': 'Roman', 'url': 'http://twitter.com/search?q=Roman', 'promoted_content': None, 'query': 'Roman', 'tweet_volume': 89896}, {'name': 'सरोजिनी नायडू', 'url': 'http://twitter.com/search?q=%22%E0%A4%B8%E0%A4%B0%E0%A5%8B%E0%A4%9C%E0%A4%BF%E0%A4%A8%E0%A5%80+%E0%A4%A8%E0%A4%BE%E0%A4%AF%E0%A4%A1%E0%A5%82%22', 'promoted_content': None, 'query': '%22%E0%A4%B8%E0%A4%B0%E0%A5%8B%E0%A4%9C%E0%A4%BF%E0%A4%A8%E0%A5%80+%E0%A4%A8%E0%A4%BE%E0%A4%AF%E0%A4%A1%E0%A5%82%22', 'tweet_volume': 11085}, {'name': 'Suresh Raina', 'url': 'http://twitter.com/search?q=%22Suresh+Raina%22', 'promoted_content': None, 'query': '%22Suresh+Raina%22', 'tweet_volume': None}, {'name': 'C-17', 'url': 'http://twitter.com/search?q=C-17', 'promoted_content': None, 'query': 'C-17', 'tweet_volume': 26835}, {'name': 'Modi Govt', 'url': 'http://twitter.com/search?q=%22Modi+Govt%22', 'promoted_content': None, 'query': '%22Modi+Govt%22', 'tweet_volume': 27899}, {'name': 'Union Minister', 'url': 'http://twitter.com/search?q=%22Union+Minister%22', 'promoted_content': None, 'query': '%22Union+Minister%22', 'tweet_volume': 23680}, {'name': 'श्री गणेश', 'url': 'http://twitter.com/search?q=%22%E0%A4%B6%E0%A5%8D%E0%A4%B0%E0%A5%80+%E0%A4%97%E0%A4%A3%E0%A5%87%E0%A4%B6%22', 'promoted_content': None, 'query': '%22%E0%A4%B6%E0%A5%8D%E0%A4%B0%E0%A5%80+%E0%A4%97%E0%A4%A3%E0%A5%87%E0%A4%B6%22', 'tweet_volume': 29592}, {'name': '#tax4wealth', 'url': 'http://twitter.com/search?q=%23tax4wealth', 'promoted_content': None, 'query': '%23tax4wealth', 'tweet_volume': None}, {'name': '#ShahRukhKhan', 'url': 'http://twitter.com/search?q=%23ShahRukhKhan', 'promoted_content': None, 'query': '%23ShahRukhKhan', 'tweet_volume': 42822}, {'name': '#RussianUkrainianWar', 'url': 'http://twitter.com/search?q=%23RussianUkrainianWar', 'promoted_content': None, 'query': '%23RussianUkrainianWar', 'tweet_volume': 57340}, {'name': '#IStandWithPutin', 'url': 'http://twitter.com/search?q=%23IStandWithPutin', 'promoted_content': None, 'query': '%23IStandWithPutin', 'tweet_volume': 75314}, {'name': '#Prabhas', 'url': 'http://twitter.com/search?q=%23Prabhas', 'promoted_content': None, 'query': '%23Prabhas', 'tweet_volume': 196670}, {'name': '#SaveIndianStudents', 'url': 'http://twitter.com/search?q=%23SaveIndianStudents', 'promoted_content': None, 'query': '%23SaveIndianStudents', 'tweet_volume': 17908}, {'name': '#JohnAbraham', 'url': 'http://twitter.com/search?q=%23JohnAbraham', 'promoted_content': None, 'query': '%23JohnAbraham', 'tweet_volume': None}, {'name': '#VikrantRona', 'url': 'http://twitter.com/search?q=%23VikrantRona', 'promoted_content': None, 'query': '%23VikrantRona', 'tweet_volume': 40277}, {'name': '#TriumphantTelangana', 'url': 'http://twitter.com/search?q=%23TriumphantTelangana', 'promoted_content': None, 'query': '%23TriumphantTelangana', 'tweet_volume': 75694}, {'name': '#DeepikaPadukone', 'url': 'http://twitter.com/search?q=%23DeepikaPadukone', 'promoted_content': None, 'query': '%23DeepikaPadukone', 'tweet_volume': 12681}, {'name': '#RudraOnHotstar', 'url': 'http://twitter.com/search?q=%23RudraOnHotstar', 'promoted_content': None, 'query': '%23RudraOnHotstar', 'tweet_volume': None}, {'name': '#istandwithrussia', 'url': 'http://twitter.com/search?q=%23istandwithrussia', 'promoted_content': None, 'query': '%23istandwithrussia', 'tweet_volume': 28233}, {'name': '#Tiger3', 'url': 'http://twitter.com/search?q=%23Tiger3', 'promoted_content': None, 'query': '%23Tiger3', 'tweet_volume': None}, {'name': '#YRF50', 'url': 'http://twitter.com/search?q=%23YRF50', 'promoted_content': None, 'query': '%23YRF50', 'tweet_volume': 27721}, {'name': '#SRK𓃵', 'url': 'http://twitter.com/search?q=%23SRK%F0%93%83%B5', 'promoted_content': None, 'query': '%23SRK%F0%93%83%B5', 'tweet_volume': None}, {'name': '#PoojaHegde', 'url': 'http://twitter.com/search?q=%23PoojaHegde', 'promoted_content': None, 'query': '%23PoojaHegde', 'tweet_volume': 10041}, {'name': '#UPFirMangeBJP', 'url': 'http://twitter.com/search?q=%23UPFirMangeBJP', 'promoted_content': None, 'query': '%23UPFirMangeBJP', 'tweet_volume': 16769}, {'name': '#SpeakUpForOurStudents', 'url': 'http://twitter.com/search?q=%23SpeakUpForOurStudents', 'promoted_content': None, 'query': '%23SpeakUpForOurStudents', 'tweet_volume': 28129}, {'name': '#kingkhan', 'url': 'http://twitter.com/search?q=%23kingkhan', 'promoted_content': None, 'query': '%23kingkhan', 'tweet_volume': None}, {'name': '#AryanKhan', 'url': 'http://twitter.com/search?q=%23AryanKhan', 'promoted_content': None, 'query': '%23AryanKhan', 'tweet_volume': None}, {'name': '#ArmaanxGrammys', 'url': 'http://twitter.com/search?q=%23ArmaanxGrammys', 'promoted_content': None, 'query': '%23ArmaanxGrammys', 'tweet_volume': None}, {'name': '#wednesdaythought', 'url': 'http://twitter.com/search?q=%23wednesdaythought', 'promoted_content': None, 'query': '%23wednesdaythought', 'tweet_volume': None}, {'name': '#ThankYouKCR', 'url': 'http://twitter.com/search?q=%23ThankYouKCR', 'promoted_content': None, 'query': '%23ThankYouKCR', 'tweet_volume': 56958}, {'name': '#ETtrailer', 'url': 'http://twitter.com/search?q=%23ETtrailer', 'promoted_content': None, 'query': '%23ETtrailer', 'tweet_volume': 133308}, {'name': '#EtharkkumThunindhavan', 'url': 'http://twitter.com/search?q=%23EtharkkumThunindhavan', 'promoted_content': None, 'query': '%23EtharkkumThunindhavan', 'tweet_volume': 228329}, {'name': '#SRKians', 'url': 'http://twitter.com/search?q=%23SRKians', 'promoted_content': None, 'query': '%23SRKians', 'tweet_volume': None}, {'name': '#ArnabGoswami', 'url': 'http://twitter.com/search?q=%23ArnabGoswami', 'promoted_content': None, 'query': '%23ArnabGoswami', 'tweet_volume': None}, {'name': '#Suriya', 'url': 'http://twitter.com/search?q=%23Suriya', 'promoted_content': None, 'query': '%23Suriya', 'tweet_volume': 33536}], 'as_of': '2022-03-02T10:33:12Z', 'created_at': '2022-03-01T01:59:57Z', 'locations': [{'name': 'Delhi', 'woeid': 20070458}]}]\n"
     ]
    }
   ],
   "source": [
    "tweet_data = trend_resp.json()\n",
    "print(tweet_data)\n"
   ]
  },
  {
   "cell_type": "code",
   "execution_count": 1,
   "id": "02540d4d",
   "metadata": {},
   "outputs": [],
   "source": [
    "import json\n",
    " \n",
    "# Opening JSON file\n",
    "f = open('tweets.json')"
   ]
  },
  {
   "cell_type": "code",
   "execution_count": 3,
   "id": "150131bb",
   "metadata": {},
   "outputs": [],
   "source": [
    "data = json.loads(f.read())"
   ]
  },
  {
   "cell_type": "code",
   "execution_count": 7,
   "id": "1025c799",
   "metadata": {},
   "outputs": [
    {
     "data": {
      "text/plain": [
       "{'_id': '1500747815600992258_twitter',\n",
       " 'channel': 'twitter',\n",
       " 'created_at': 1646641832,\n",
       " 'data': {'id': 1500747815600992300,\n",
       "  'id_str': '1500747815600992258',\n",
       "  'conversation_id': '1500747815600992258',\n",
       "  'datetime': '2022-03-07 13:48:56 IST',\n",
       "  'datestamp': '2022-03-07',\n",
       "  'timestamp': '13:48:56',\n",
       "  'user_id': 1930732656,\n",
       "  'user_id_str': '1930732656',\n",
       "  'username': 'aaptaknews',\n",
       "  'name': 'ANAND SHARMA',\n",
       "  'place': '',\n",
       "  'timezone': '+0530',\n",
       "  'mentions': [],\n",
       "  'reply_to': [],\n",
       "  'urls': [],\n",
       "  'photos': ['https://pbs.twimg.com/media/FNO6L5AWYAMg6II.jpg'],\n",
       "  'video': 1,\n",
       "  'thumbnail': 'https://pbs.twimg.com/media/FNO6L5AWYAMg6II.jpg',\n",
       "  'tweet': 'UP Elections 2022 Phase 7 Live Updates: भदोही में एक घंटे से EVM खराब, अखिलेश ने कहा-कम से कम 300 सीटें जीतेगा सपा गठबंधनUP Elections 2022 Phase 7 Live Updates: भदोही में एक घंटे से EVM खराब, अखिलेश ने कहा-कम से कम 300 सीटें जीतेगा सपा गठबंधन  https://t.co/ZUPlMWf8dY',\n",
       "  'lang': 'hi',\n",
       "  'hashtags': [],\n",
       "  'cashtags': [],\n",
       "  'replies_count': 0,\n",
       "  'retweets_count': 0,\n",
       "  'likes_count': 0,\n",
       "  'link': 'https://twitter.com/aaptaknews/status/1500747815600992258',\n",
       "  'retweet': False,\n",
       "  'retweet_id': '',\n",
       "  'retweet_date': '',\n",
       "  'user_rt': '',\n",
       "  'user_rt_id': '',\n",
       "  'quote_url': '',\n",
       "  'near': '',\n",
       "  'geo': '',\n",
       "  'source': '',\n",
       "  'translate': '',\n",
       "  'trans_src': '',\n",
       "  'trans_dest': '',\n",
       "  '_id': '1500747815600992258_twitter'},\n",
       " 'datetime': '2022-03-07 08:18:56',\n",
       " 'engagement': 0,\n",
       " 'hashtag': 'UP Elections 2022',\n",
       " 'post_type': 'trending',\n",
       " 'sentiment_score': {'NEGATIVE': 0.012898157,\n",
       "  'NEUTRAL': 0.9770621,\n",
       "  'POSITIVE': 0.010039837},\n",
       " 'sub_topics': []}"
      ]
     },
     "execution_count": 7,
     "metadata": {},
     "output_type": "execute_result"
    }
   ],
   "source": [
    "data[0]"
   ]
  },
  {
   "cell_type": "code",
   "execution_count": 10,
   "id": "ec1388e6",
   "metadata": {},
   "outputs": [],
   "source": [
    "import json\n",
    "import pandas as pd"
   ]
  },
  {
   "cell_type": "code",
   "execution_count": 11,
   "id": "fc393916",
   "metadata": {},
   "outputs": [],
   "source": [
    "dfItem = pd.DataFrame.from_records(data)"
   ]
  },
  {
   "cell_type": "code",
   "execution_count": 17,
   "id": "c9a5365a",
   "metadata": {},
   "outputs": [],
   "source": [
    "df=dfItem['data']"
   ]
  },
  {
   "cell_type": "code",
   "execution_count": 23,
   "id": "cffc4862",
   "metadata": {},
   "outputs": [],
   "source": [
    "df = df.to_frame().reset_index()"
   ]
  },
  {
   "cell_type": "code",
   "execution_count": 72,
   "id": "a421160f",
   "metadata": {},
   "outputs": [
    {
     "data": {
      "text/plain": [
       "'•Concept Kit- Chelsea 2022/23💙🖤  #Chelsea #CFC #Kit #Nike #PremierLeague  https://t.co/plimvYJ0OS'"
      ]
     },
     "execution_count": 72,
     "metadata": {},
     "output_type": "execute_result"
    }
   ],
   "source": [
    "df['data'][106]['tweet']"
   ]
  },
  {
   "cell_type": "code",
   "execution_count": 60,
   "id": "ce80cd87",
   "metadata": {},
   "outputs": [],
   "source": [
    "tweet_UP=[]"
   ]
  },
  {
   "cell_type": "code",
   "execution_count": 73,
   "id": "7d3b9f78",
   "metadata": {},
   "outputs": [],
   "source": [
    "tweet_PL=[]"
   ]
  },
  {
   "cell_type": "code",
   "execution_count": 78,
   "id": "87145058",
   "metadata": {},
   "outputs": [],
   "source": [
    "tweet_Ukrain=[]"
   ]
  },
  {
   "cell_type": "code",
   "execution_count": 79,
   "id": "4e8015e5",
   "metadata": {},
   "outputs": [],
   "source": [
    "for i in range(107,160):\n",
    "    tweet_Ukrain.append(df['data'][i]['tweet'])"
   ]
  },
  {
   "cell_type": "code",
   "execution_count": 62,
   "id": "c0853b55",
   "metadata": {},
   "outputs": [
    {
     "data": {
      "text/plain": [
       "['UP Elections 2022 Phase 7 Live Updates: भदोही में एक घंटे से EVM खराब, अखिलेश ने कहा-कम से कम 300 सीटें जीतेगा सपा गठबंधनUP Elections 2022 Phase 7 Live Updates: भदोही में एक घंटे से EVM खराब, अखिलेश ने कहा-कम से कम 300 सीटें जीतेगा सपा गठबंधन  https://t.co/ZUPlMWf8dY',\n",
       " 'UP Elections 2022 |  Inspirational: Pain-battered elderly couple cast their vote, watch heart-touching ‘Video’ |  tie  https://t.co/oLPNoOYF8f  https://t.co/278EbA9SLP',\n",
       " '7STAR GGS NEWS: UP Elections 2022 Voting: 8.58% Turnout Recorded till 9 am as Residents Vote in 54 Seats Across 9 Dists:  https://t.co/O8AW6XpSFn   #UPElection2022 #India #BREAKING #afternoonbriefing',\n",
       " 'యూపీలో కొనసాగుతున్న చివరి విడత పోలింగ్ | UP Elections 2022 | hmtv   https://t.co/IZtOKjo53R  #UttarPradesh #UPElections2022 #LastPhasePolling #news #tvnews #hmtvnews #livenews #hmtvlivenews',\n",
       " 'Exit Poll Result 2022 Date: When And Where To Watch Exit Polls For UP, Punjab, Goa, Uttarakhand, And Manipur Elections #ExitPoll  https://t.co/3FLekQoWCE',\n",
       " 'UP Elections 2022: सातवें चरण में 9 जिलों की 54 सीटों पर वोटिंग जारी, 11 बजे तक 21.55% मतदान',\n",
       " 'Exit Polls 2022 Date and Time: When and where to watch exit polls for elections polls in UP, Uttarakhand, Punjab, Goa and Manipur  https://t.co/dM4KNXpZLP  https://t.co/VQGr82ZeWY',\n",
       " 'Inside A Village In Uttar Pradesh : Chandauli  | UP Assembly Elections 2022  https://t.co/hkP5y9tEP5 via @YouTube',\n",
       " 'UP Elections 2022 | UP में कल अंतिम चरण का चुनाव : Purvanchal की लड़ाई में कौन किस पर\\xa0भारी?  https://t.co/uRQ8GoguU6',\n",
       " 'UP Elections 2022: All roads lead to Kashi | Op-eds – Gulf News  https://t.co/dT5T3yKdt4',\n",
       " '#GoaDiary_Goa_News_External   Exit Polls 2022: When and where to watch exit poll results for assembly elections in UP, Uttarakhand, Punjab, Goa and Manipur  https://t.co/6RpSnqmEV9',\n",
       " 'Political economy is way beyond elections…Wonderful work by @Samdish and team… more power to you… Inside A Village In Uttar Pradesh : Chandauli  | UP Assembly Elections 2022  https://t.co/2CT3rm3muQ via @YouTube',\n",
       " 'UP Elections 2022 : कौन जीत रहा है यूपी? जानिए क्या है पूर्वांचल की जनता का मूड?  https://t.co/w4pOLrtjoK',\n",
       " 'UP ELECTIONS 2022: किसान नेता Rajesh Tikait ने जताई मतगणना में गड़बड़ी की आशंका, किसानों को कहा \"दो दिन छुट्टी रखें\" #राज्य  https://t.co/vmjErPJILS',\n",
       " \"UP Elections 2022 Voting LIVE Updates: Akhilesh Sees Politics in Ukraine Evacuation Drive, Finds Link Between 'Op Ganga'   https://t.co/i3IdSZNkBG\",\n",
       " 'UP Elections 2022: आजमगढ़ में दो बुजुर्ग पहुंचे देने वोट,वोटर्स के लिए बने मिसाल  https://t.co/kFJwZhEGNf  https://t.co/5QfDglkEhj',\n",
       " 'Most authentic, reliable and accurate exit polls for UP Elections 2022 BJP + - 50 to 350 seats SP + -   50 to 350 seats BSP -    50 to 250 seats  Cong -  1 to 50 seats   Breaking news ----  No party is winning 400 seats on its own.',\n",
       " 'UP Election 2022: सातवें चरण में सुबह 11 बजे तक 21.55 प्रतिशत वोटिंग, सोनभद्र में सबसे कम मतदान #UPElection2022 #UPElections #UPElections2022   https://t.co/QHTuYIurAJ',\n",
       " 'UP Elections 2022: सातवें चरण की वोटिंग जारी, 11 बजे तक 21.55% मतदान दर्ज',\n",
       " 'Inside A Village In Uttar Pradesh : Chandauli  | UP Assembly Elections 2022  https://t.co/vTUEAXRMJY via @YouTube @myogioffice @myogiadityanath  many people are missing the benefits everywhere , kindly build some mechanism so that right people get the benefit',\n",
       " 'UP Assembly Elections Last Phase Voting 2022 Akhilesh Yadav Claims SP Alliance Will Win At Least 300 Seats | Last phase of voting continues in UP, claims Akhilesh\\xa0Yadav  https://t.co/srEP1XtbEA',\n",
       " 'उत्तर प्रदेश चुनाव 2022 के अंतिम चरण में सुबह 11 बजे तक 21.55% मतदान हुआ। #UPElections #UPElection2022 #upelection2022  https://t.co/LYvMMYUliM',\n",
       " 'My Predictions for Assembly elections 2022 UP- BJP+ (Full Majority) Goa- BJP+ (Full Majority) Uttarakhand – BJP+ (Full Majority) Manipur-Hung but BJP+ will form the govt Punjab–Hung (Expecting INC and AAP together form the govt.) (BJP - 2-5 seats) #Elections2022 #OpnionPolls',\n",
       " \"Midway to General Elections 2024 .... 5 key states go to polls.  Not just political crucible UP, but from East to West, India will deliver a verdict.  Result Day: 10th March 2022 - Stay glued to TIMES NOW – India's Election News Headquarters.  #March10WithTimesNow  https://t.co/90YKj6oCgh\",\n",
       " 'How Stone Quarrying Has Turned This Mirzapur Village Into a Living Hell  As part of their UP Elections 2022 coverage for The Wire, @shekhar_tiwarii and @DeviDutt2006 bring us this important story   https://t.co/kpuOtXyZgR   via @thewirehindi @thewireurdu @thewire_in',\n",
       " 'ಉತ್ತರಪ್ರದೇಶ ವಿಧಾನಸಭೆ ಚುನಾವಣೆ 2022  Live updates:  https://t.co/QkrPo598ZA   #UPElections #UPElections2022 #UttarPradeshElections2022 #UttarPradeshElections  https://t.co/M5XD8783cG',\n",
       " 'Inside A Village In Uttar Pradesh : Chandauli  | UP Assembly Elections 2022  https://t.co/O0iPxCAdDE via @YouTube',\n",
       " 'UP 7th Phase Elections 2022: बीजेपी वर्कर्स पर लगा वोटर्स को पैसे बांटने का आरोप, सपा कार्यकर्ताओं ने पीटा - Aaj Tak   https://t.co/pdpC3R5GU9  #NEWSINDIA  https://t.co/kaRYLkGVoS',\n",
       " 'Manila Mayor Isko Moreno and  doctor-turned-politician Willie Ong make up the fourth tandem running for the highest government positions in the coming 2022 Elections.   Here are their backgrounds and platforms:  https://t.co/ncDcTuvCRb',\n",
       " 'Elections Breaking 🔥: Netizens of UP are voting for Seventh phase of Elections on March 7, 2022 for the final ‘seventh time’! It’s a special day i.e 7- 7 - 7 for #UPPolls2022.   #BJP #YogiAdityanath #Akhilesh #UPAssemblyElection #SeventhPhase  @myogiadityanath @yadavakhilesh  https://t.co/ta3a7rZMXK',\n",
       " 'Exit Poll Results 2022 Time And Details: Know When And Where to Watch Live Streaming of Predictions For Assembly Elections in UP, Punjab, Goa, Uttarakhand And Manipur #AssemblyElections2022  #FiveStates #Livestream #ExitPoll  #Results    https://t.co/afJCtbaefN',\n",
       " 'UP Elections 2022: सातवें चरण की वोटिंग जारी, 11 बजे तक 21.55% मतदान दर्ज #UttarPradesh #UPElection2022  https://t.co/ocBhdudrJP',\n",
       " 'Inside A Village In Uttar Pradesh : Chandauli  | UP Assembly Elections 2022  https://t.co/fOw8X1DY3v via @YouTube',\n",
       " '#UPElection2022 : उत्तर प्रदेश चुनाव 2022 के अंतिम चरण में सुबह 11 बजे तक 21.55% मतदान हुआ। #UttarPradeshElections2022 #UPElections #ElectionsWithKnews @ECISVEEP @ceoup  https://t.co/xAjGPXgwnp',\n",
       " 'Which party would win UP elections 2022?   #exitpolls #Election2022  #bjp #modi #YogiAdityanath #AkhileshYadav #mayawati #SamajwadiParty #ExitPoll',\n",
       " 'UP 7th Phase Elections 2022: बीजेपी वर्कर्स पर लगा वोटर्स को पैसे बांटने का आरोप, सपा कार्यकर्ताओं ने पीटा - Aaj Tak   https://t.co/pdpC3R594B  #NEWSINDIA  https://t.co/A5FuMYsLdJ',\n",
       " 'UP Elections 2022: सातवें चरण की वोटिंग जारी, 11 बजे तक 21.55% मतदान दर्ज',\n",
       " 'UP Election 2022: वाराणसी में मतदान अधिकारी पर भड़के मंत्री रवींद्र जायसवाल, जानबूझकर वोटिंग मशीन को 40 मिनट तक बंद रखने का लगाया आरोप @RavindraMoS_IC @sanjayraiupbjp @cmbjpup @manishBJPUP @aalok_aawasthii #UPElection2022 #UPElections   https://t.co/klES2tby8U',\n",
       " '7वें फेज की 10 हॉट सीटें: क्या बाहुबली की विरासत बचा पाएगा बेटा? काशी में नीलकंठ या महंत किसे मिलेगा बाबा विश्वनाथ का आशीर्वाद?   https://t.co/QAYxtzJ9X6   #UPElection2022 #UPElections2022 #UPElections #PoliticsLive #Varanasi #उत्तर_प्रदेश_चुनाव_2022  https://t.co/NQjAH6SrEl',\n",
       " 'UP Elections 2022, Phase 7: Voting on 54 seats, including PM Modi-stronghold Varanasi, to take place today  https://t.co/JmhT3odpYP  https://t.co/K5evsMzcgC',\n",
       " 'Live Voting UP Election 2022: उत्तर प्रदेश में सुबह 11 बजे तक 21.55% मतदान, देखें हर पल का UPDATE  #UPElections #UPElections2022Phase7    https://t.co/TDsBAkkhwK',\n",
       " '#uttarpradeshassemblyelections2022 UP Assembly Elections 2022: 21.55% voters turnout recorded till 11 am in the seventh phase polls  21  https://t.co/rplG7L7tzl',\n",
       " '#JohorBangkit Sign up to be a PACA now! Election Date : 12th March 2022 (Saturday)  • Departs on: Saturday (7:00 am) 12/3/2022 • Returns on:  Saturday (after elections) 12/3/2022 • Meet up location: United Point Segambut  Sign up here ➡️  https://t.co/38QPxLCTVK  https://t.co/sAfwgaxS6d',\n",
       " 'UP Elections 2022: All roads lead to Kashi  The job crisis is not getting the attention it deserves from any political party in India .@bainjal   https://t.co/PFTXeK51i0',\n",
       " 'UP Elections 2022 LIVE updates: 21.55 per cent polling recorded in first four hours of voting: hi INDiA    Lucknow, March 7 Over 21 per cent of voters exercised their right in the first four hours of polling for the seventh and…  https://t.co/5maeDTq2yZ |  https://t.co/Vhb7EKELqw  https://t.co/MBSknI2POu',\n",
       " 'UP Elections 2022: सातवें चरण की वोटिंग जारी, 11 बजे तक 21.55% मतदान दर्ज #JanhitTimes #UttarPradeshElections2022 #UPElections2022 #Elections  https://t.co/9lwEps5Ov1',\n",
       " 'UP Elections 2022: यूपी में सातवें और अंतिम चरण का मतदान जारी, सुबह 11 बजे तक 21.55 फीसदी वोटिंग    https://t.co/mil02jPfrp   #assemblyelections2022 #upelections2022 #seventhphase #voting #eci #sadaatimes',\n",
       " 'My assessment for the UP Elections 2022: BJP+ 278; SP+ 104; BSP 17; INC 1; AAP 0; Others 3 (Margin of error 2 %)',\n",
       " 'UP Assembly Election 2022: Women leader was also a star campaigner in the UP assembly elections, focused on catering to half the\\xa0population  https://t.co/8ajRTwzp5u',\n",
       " \"@NikkiFried DeSantis  gave freedoms to Florida and liberals have enjoyed them. He showed the country how not to live in fear. Ya'll followed his leadership when it became obvious you're doomed 2022 elections.  He cared for the citizens while you care only for power. Sit down and shut up.\",\n",
       " 'Inside A Village In Uttar Pradesh: Chandauli  | UP Assembly Elections 2022  https://t.co/6llPWKctg8 via @YouTube  #UPElection2022 #GOI #NAMO #YogiAdityanath #AkhileshYadav #media #NewsBreak',\n",
       " 'UP Elections 2022: Final phase of voting begins in 54 assembly\\xa0seats  https://t.co/6bibt7Dy8r',\n",
       " 'UP Elections 2022: यूपी में अंतिम चरण के लिए मतदान आज  https://t.co/IDUDkgwZOe',\n",
       " 'Assembly Elections 2022: Check exit poll results date and time for UP, Punjab, Goa, Manipur,\\xa0Uttarakhand  https://t.co/x6A7vlf506',\n",
       " 'यूपी में आज अंतिम चरण का रण, मोदी की वाराणसी और अखिलेश के आजमगढ़ में डलेंगे वोट  https://t.co/vQrhWgCkU9  https://t.co/zwH2oiL7CG #narendra_modi #akhilesh_yadav #up_elections_2022 @newstracklive',\n",
       " 'UP Election 2022: Silence prevailed at Mau’s booth, know why villagers boycotted\\xa0elections  https://t.co/VE7RLXGARu']"
      ]
     },
     "execution_count": 62,
     "metadata": {},
     "output_type": "execute_result"
    }
   ],
   "source": [
    "tweet_UP"
   ]
  },
  {
   "cell_type": "code",
   "execution_count": 58,
   "id": "096f43ca",
   "metadata": {},
   "outputs": [
    {
     "data": {
      "text/plain": [
       "'\"Voting is not only our right- it is our power\"  (#Voting_in_the_UP_Elections_2022)  https://t.co/qucod0XKIi'"
      ]
     },
     "execution_count": 58,
     "metadata": {},
     "output_type": "execute_result"
    }
   ],
   "source": [
    "df['data'][56]['tweet']"
   ]
  },
  {
   "cell_type": "code",
   "execution_count": 81,
   "id": "997eac4d",
   "metadata": {},
   "outputs": [],
   "source": [
    "UP_elec = '.'.join(map(str, tweet_UP))"
   ]
  },
  {
   "cell_type": "code",
   "execution_count": 83,
   "id": "6be8051b",
   "metadata": {},
   "outputs": [],
   "source": [
    "PL_elec='.'.join(map(str, tweet_PL))"
   ]
  },
  {
   "cell_type": "code",
   "execution_count": 85,
   "id": "e4d3b7e4",
   "metadata": {},
   "outputs": [],
   "source": [
    "UK_elec='.'.join(map(str, tweet_Ukrain))"
   ]
  },
  {
   "cell_type": "code",
   "execution_count": 89,
   "id": "e7efd0b7",
   "metadata": {},
   "outputs": [],
   "source": [
    "import re"
   ]
  },
  {
   "cell_type": "code",
   "execution_count": 91,
   "id": "247e6f7a",
   "metadata": {},
   "outputs": [],
   "source": [
    "UK_elec=re.sub(r'http\\S+', '', UK_elec)"
   ]
  },
  {
   "cell_type": "code",
   "execution_count": 92,
   "id": "6206e288",
   "metadata": {},
   "outputs": [],
   "source": [
    "UP_elec=re.sub(r'http\\S+', '', UP_elec)"
   ]
  },
  {
   "cell_type": "code",
   "execution_count": 93,
   "id": "577f4f04",
   "metadata": {},
   "outputs": [],
   "source": [
    "PL_elec=re.sub(r'http\\S+', '', PL_elec)"
   ]
  },
  {
   "cell_type": "code",
   "execution_count": 100,
   "id": "038db9e6",
   "metadata": {},
   "outputs": [],
   "source": [
    "UK_elec=re.sub('[^A-Za-z0-9]+', ' ', UK_elec)"
   ]
  },
  {
   "cell_type": "code",
   "execution_count": 99,
   "id": "d51ec439",
   "metadata": {},
   "outputs": [],
   "source": [
    "UP_elec=re.sub('[^A-Za-z0-9]+', ' ', UP_elec)"
   ]
  },
  {
   "cell_type": "code",
   "execution_count": 101,
   "id": "56823c3b",
   "metadata": {},
   "outputs": [],
   "source": [
    "PL_elec=re.sub('[^A-Za-z0-9]+', ' ', PL_elec)"
   ]
  },
  {
   "cell_type": "code",
   "execution_count": 108,
   "id": "6ba9b695",
   "metadata": {},
   "outputs": [
    {
     "data": {
      "text/plain": [
       "'New photo posted in Isaacranty free services Newcastle United have conceded the least amount of goals in the Premier League in 2022 3 football tips Premier League Tottenham Everton Total goals over 2 5 1 72 88goals com Bet here panodds bettingtips IPL 2022 Full schedule of matches venues and timings Defending champions Chennai Super Kings will face Kolkata Knight Riders in the opening game of the 15th edition of the Indian Premier League IPL at the Wankhede st Sports by TimesofIndia 12 00 CET KrasnodarFK vs Ural livestream available Russian Premier League Russia Streaming Providers 1 PREMIER LEAGUE 2022 03 05 Barry Town United 0 1 Haverfordwest County Cardiff MU 0 0 Connah s Quay Penybont 0 3 Caernarfon Town 2022 03 04 Cefn Druids 3 3 Aberystwyth Town Flint Town United 1 2 The New Saints Newtown 0 2 Bala Town FK Ural Free Live Football Streaming 07 03 2022 12 00 CET KrasnodarFK vs Ural livestream available Russian Premier League Russia Streaming Providers 1 7th March 2022 20 00 Sky Sports Tottenham Hotspur Stadium Everton Premier League MD 26 Let us know your score predictions for today s game down below spursprogram on Instagram TOTEVE THFC SpursArmy Rene Mampassi 18 years played 94 minutes for Lokomotiv Moskva as a Defender Game Lokomotiv Moskva Khimki 3 2 from Premier League Russia Date 2022 03 06 LokomotivMoskva scouting football Yesterday was more an Arsene Wenger game 2006 18 amazing attack lack of focus and attitude in defending than Mikel Arteta game who wants more control If we re gonna reach top4 in Premier League 2022 we need more Arteta and less Wenger 06 18 golazo del 2022 Hispano Cucho Hern ndez marc un tanto en Premier League que competir a por el Premio Puskas Video United is in 2022 ongeslagen in de Premier League en stoomt steeds verder op naar het linkerrijtje 2022 Indian Premier League IPL will start later this month with spectators set to be welcomed back to stadiums although at only 25 Read full gt gt gt gt Premier League broadcast deals for 2022 2025 and beyond via premierleague Indian Premier League is the most popular T20 tournament in the world hosted by BCCI every year from April to May In 2022 If you want to know which team will win IPL 2022 hit the link here IPL2022 IPL iplschedule iplupdates IPLT20 Board of Control for Cricket in India BCCI on Sunday announced the schedule for the league matches of the Indian Premier League IPL 2022 which will be held in Mumbai and Pune Premier League Table for all games played in 2022 from 1st January to 6th March Zakharyan 18 years played 97 minutes for Dinamo Moskva as a Midfielder Game Dinamo Moskva Spartak Moskva 0 2 from Premier League Russia Date 2022 03 06 DinamoMoskva scouting football The Premier League has not published details of TV distributions for the last 2 seasons but CFC earned 146m in 2019 The new TV deal for 2022 25 is up 14 over the current deal to 10 3 bln based on media reports thanks to surging overseas deals especially NBC in USA 2022 Live on Sony Six TV Channel IPL Today Match IPL 2022 Live on Sony Six TV Channel in India IPL 2022 live TV channel Watch IPL 2022 Live Streaming on Sony Six Television Channel Watch IPL today s match of Indian Premier League 2022 Full schedule of matches venues and timings Defending champions Chennai Super Kings will face Kolkata Knight Riders in the opening game of the 15th edition of the Indian Premier League IPL at the Wankhede stadium here on March 26 Here s United have failed to have a single shot in the second half of a Premier League game just two times in the last six seasons vs Liverpool 2017 vs Man City 2022 Squawka 3 months into 2022 and Spurs are yet to win a game at home in the Premier League The Board of Control for Cricket in India BCCI on Sunday announced the schedule for the league matches of the Indian Premier League IPL 2022 which will be held in Mumbai and Pune The current season of IPL will begin on March 26 at the Wankhede stadium with a clash between Ch AIA Singapore Premier League CURRENT STANDINGS AFF FAS Graphic Courtesy SPL golazo del 2022 Hispano Cucho Hern ndez marc un tanto en premierleague que competir a por el Premio Puskas Video PREMIER LEAGUE Or 2022 METFONE CAMBODIAN LEAGUE Winners List Season by Season Champions Most Title Wins in Indian Premier League Ahead of 2022 Edition IPL IPL2022 2022 Schedule and Today Match Result IPL Today Match IPL 2022 Schedule IPL 2022 Schedule is released today TATA IPL 2022 Match Schedule and Fixtures BCCI has announced the Indian Premier League T20 match schedule IPL 2022 Fixtures 2022 Full Schedule Complete fixtures match dates and timings venues of all Indian Premier League matches Firstcricket News Firstpost Hotspur v Everton FC All Time Match Records 1897 2022 ahead of Monday night s Premier League game at the New Spurs Stadium Spurs have taken more PL Points from Everton 104 than any other Club they ve faced COYS THFC EFC NBC PREMIER LEAGUE Simba SC vs Dodoma Jiji Today 7 MAR 2022 Benjamin Mkapa Stadium 19 00 Azam Television League Table for all games played in 2022 from 1st January to 6th March ahead of Tottenham Hotspur v Everton tonight COYS EFC great goal of 2022 Hispanic Cucho Hern ndez scored a goal in the Premier League that would compete for the Puskas Award Video Premier League 2021 2022 Match 41 BD Police FC v Swadhinata KS Match 42 Muktijoddha SKC v Rahmatganj MFS Sources informed me Galaxy FC head coach Thabang Stuff Busa likely to leave the team after several elite clubs showed interest in his services for 2022 23 He guided the club to premier league twice 2017 18 relegated 2018 19 and returned 2020 21 de hoy 7 de marzo horarios y canales de TV EN VIVO para ver Liga 1 LaLiga y Premier League F tbol en vivo Horarios y canales de TV para ver los partidos de hoy 7 de marzo de 2022 most in form Premier League players in the right now March 2022 PremierLeague eplas EPL prem space ChennaiIPL RCBTweets KKRiders mipaltan rajasthanroyals gujarat titans LucknowIPL SunRisers PunjabKingsIPL DC IPL 2022 Schedule Delhi Capitals Matches in Indian Premier League Season 15 With Full Timetable and Venue Details DC IPL2022 DelhiCapitals PREMIER LEAGUE 2022 Bulgarian Premier League Slavia Sofia VS Lokomotiv Sofia Recommended Tie 1 95 hemisphere 1 75 The two teams have not performed well recently and they have both suffered a losing streak This time the possibility of a fierce battle is not low de los partidos de hoy Fecha 28 Premier League Temporada 2021 2022 DeportePicante PremierLeague MATCH Premier League 2021 22 Tottenham vs Everton Premier League Selasa 08 Maret 2022 03 00 WIB Tottenham Hotspur Stadium Tottenham Everton TOTEVE PremierLeague jadwalbola beritabola maniakbola peminatbola seputarduniasepakbola pecintabola RCBTweets KKRiders mipaltan rajasthanroyals gujarat titans LucknowIPL SunRisers PBKS IPL 2022 Schedule Punjab Kings Matches in Indian Premier League Season 15 With Full Timetable and Venue Details PBKS IPL2022 PunjabKingsIPL RCBTweets KKRiders mipaltan rajasthanroyals gujarat titans LucknowIPL SRH IPL 2022 Schedule Sunrisers Hyderabad Matches in Indian Premier League Season 15 With Full Timetable and Venue Details SRH IPL2022 SunRisers RCBTweets KKRiders mipaltan rajasthanroyals gujarat titans LSG IPL 2022 Schedule Lucknow Super Giants Matches in Indian Premier League Season 15 With Full Timetable and Venue Details LSG IPL2022 LucknowIPL are todays 2022 03 07 Premier League fixtures PremierLeague PremierLeagueFixtures BPL PL EPL PLFixtures EPLFixtures More info at RCBTweets KKRiders mipaltan rajasthanroyals GT IPL 2022 Schedule Gujarat Titans Matches in Indian Premier League Season 15 With Full Timetable and Venue Details GT IPL2022 gujarat titans IPL 2022 Schedule Kolkata Knight Riders Matches in Indian Premier League Season 15 With Full Timetable and Venue Details RCBTweets KKRiders mipaltan RR IPL 2022 Schedule Rajasthan Royals Matches in Indian Premier League Season 15 With Full Timetable and Venue Details RR IPL2022 rajasthanroyals '"
      ]
     },
     "execution_count": 108,
     "metadata": {},
     "output_type": "execute_result"
    }
   ],
   "source": [
    "PL_elec"
   ]
  },
  {
   "cell_type": "code",
   "execution_count": 96,
   "id": "f22eeca2",
   "metadata": {},
   "outputs": [
    {
     "data": {
      "text/plain": [
       "\"journalistes doivent cesser. Nous ne faisons que notre travail. Anne Nzouankeu @WorldPressPhoto @BBCWorld @CBSNews @VICENews #Russie #Ukraine #UkraineConflit #UkraineCrisis   And now Ukraine crisis... And we can add begging for fuel from Venezuela... How much lower can we go?   ceasefire in Ukraine to allow more than 200,000 people to escape the fighting has failed, with Russia accused of breaking the agreement and opening fire - a claim the Kremlin denies. #UkraineCrisis #UkraineRussiaCrisis #Mariupol   SNP could delay a second independence vote until after 2023 due to the Ukraine crisis, according to the party's Westminster chief.   markets slide as Ukraine crisis raises inflation\\xa0fears   discusses #Turkey's role in the ongoing #Ukraine crisis and President #Erdoğan's phone call with President #Putin.   Chinese Foreign Minister: “#China is ready to play the necessary mediation role in the #Ukraine crisis.”.@EmmaKennedy We took 28,500 fake refugees on the south coast alone…plus another 275,000 legal immigrants…it is early days in the #Ukraine crisis…we are still taking them from Syria and Afghanistan..PUTIN’S WAR.  Please media, don’t call it Ukraine Invasion, Russia-Ukraine War, Ukraine Crisis, etc.  This MUST be forever in the books as “Putin’s War.”  #UkraineRussia #Putin #Russian #Ukraine.I spoke with the @AsharqNews channel for 20 minutes about the #Ukraine crisis within the scope of China-Russia-Taiwan-US relations.   introduces bill to target individuals (including #RussianArmy soldiers), companies, services, and assets of those associated with the #RussianInvasion of #Ukraine. __________ #UnitedWithUkraine #Kyiv #Kharkiv #UkraineWar #RussianMoney #RussianMothers #UkraineCrisis.@aighne_kearney It could be argued had the commission o served the Ukraine crisis, there may have been an additional LOA4 added. LAO3 was based on the fact there wasn’t a autocratic dictator invading neutral sovereignties in Europe when the findings were completed.@LBC @NickFerrariLBC Hes only got himself  embroiled  in the Ukraine crisis to take the heat out of partygate very sly &amp; sneaky 🤔 but he'll get caught he can't help himself DRUNK WITH POWER.Refugees, reporting and the far right: how the Ukraine crisis reveals brutal 'everyday racism' in Europe and beyond - The Conversation   crisis leads to 'disturbing' reports of racism against students: Nelson Mandela Foundation - The Hindu   I had Said that no matter what happens investment in  India will keep increasing both by foreign companies as well as Indian companies despite Ukraine crisis. Abhi tak woh sahi sidh ho raha hai..Global Markets: China stocks fall to 20-month low amid Ukraine crisis, Covid-19 outbreaks - Reuters   a cost of living crisis, the UK public can find £100m to donate to refugees. In a humanitarian crisis @GOVUK and @ukhomeoffice can only help 50 refugees because of visas. #UkraineRussianWar #UkraineCrisis    crisis: The West fights back against Putin the disruptor     Strong economy to help PH brace for impact of Russia-Ukraine crisis: adviser   wonder how to recognize a fake post. Here is 5 ways to spot fake viral footage about #Ukraine️ crisis. . #UkraineCrisis #HowTo #ViralVideo    out my latest article: Russia- Ukraine Crisis and its Geopolitical Aftermaths   via @LinkedIn   #RussianUkrainianWar #UnitedNations #VladimirPutin #NarendraModi #UNSC #Ukraine️ #NationalSecurity.✍ NFT Editorial Hub 🌐  Four Payment Operators join in Suspending their Services in Russia amid Ukraine Crisis From:     #NFT.Ukraine crisis is giving us an insight into a New World Order. It is now evident that the USA doesn't have the geo-political clout it once commanded.  While China's might is steadily rising, we are seeing the beginning of a multi-polar world where India too is a major player.🚨🇨🇳Chinese Foreign Minister: China is ready to play the necessary mediation role in the #Ukraine crisis.   added, Iran's policy is to oppose war as a solution to the Ukraine crisis.Small Business Cybersecurity Concerns Amid Russia-Ukraine Crisis    Ukraine crisis continues to dominate, and tear at, Serbian conscience   | Morning headlines      queasiness: On India’s stance in Russia-Ukraine crisis  Source- TH   #Russia-#Ukraine crisis has already hit #Thailand's #import and #export #trade, with both manufacturers and consumers suffering the indirect results of rising oil prices causing a spike in inflation, the government said on Sunday (Mar 6).—Bangkok Post    #UPDATE  The first British mercenaries arrive in Ukraine to take part in ongoing conflict against Russia  #RussiaUkraineConflict #UkraineCrisis #UkraineRussiaCrisis #Russia #WWIII #RussiaUkraineCrisis   #UPDATE  First time in History, Gas price in Europe hits $2600  #RussiaUkraineConflict #UkraineCrisis #UkraineRussiaCrisis #Russia #WWIII #RussiaUkraineCrisis.How the #Ukraine crisis effects space programmes, and means delays plus harsh lessons for India    crosses $2,000 mark, palladium at record high on Ukraine crisis.#BREAKING #UPDATE  A Russian ship has been 'hit' In the Black Sea - Claims Spokesman of Operational staff of the Odessa military administration  #RussiaUkraineConflict #UkraineCrisis #UkraineRussiaCrisis #Russia #WWIII #RussiaUkraineCrisis.Four Payment Operators Join in Suspending their Services in Russia amid Ukraine Crisis   crisis makes oil at $130-150 a barrel very possible   out, Chelsea's new owner    #UkraineCrisis !.@subhashmisra The West has made sure that alternate viewpoints of the Ukraine crisis are muted. Social media platforms, satellite channels and mainstream media have censored or blacked out these voices..China's economy resilient despite uncertainties caused by Ukraine crisis - state planner   ne plus a l'abri Ukraine une étape #BREAKING #UkraineInvasion #UkraineCrisis #OTAN #WWIII.‼️China's economy resilient despite uncertainties caused by Ukraine crisis  ‼️L'economia cinese è resiliente nonostante le incertezze causate dalla crisi Ucraina.  Ukraine Crisis: यूक्रेन से जौनपुर लौटी बेटी को देख मां-बाप की आंखें हुईं नम, पीएम मोदी का किया शुक्रिया     @Tommothebiglad @JakiMakiMaki @888MumbaiMagic @Laus5678 @poncyvaper The cost of energy was increasing way before the Ukraine crisis, would be a good idea to cut the ‘Green Levy’ from our bills..'ഒരിക്കലും മറക്കില്ല, പൊറുക്കില്ല, വെറുതെ വിടുകയുമില്ല'; രോഷാകുലനായി സെലന്\\u200dസ്\\u200cകി #UkraineCrisis #Russia-Ukrainewar #VolodymyrZelenskyy   മറക്കില്ല, പൊറുക്കില്ല, വെറുതെ വിടുകയുമില്ല'; രോഷാകുലനായി സെലന്\\u200dസ്\\u200cകി #UkraineCrisis #Russia-Ukrainewar #VolodymyrZelenskyy   Saudi-Russia Collusion Is Driving Up Gas Prices — and Worsening Ukraine Crisis     has sent 95% of its troops to Ukraine, claims US Defense Department | Watch for more details #russia #ukrainecrisis   Crisis: అణుబాంబు తయారీకి ఉక్రెయిన్\\u200c ప్రణాళిక! అందుకే రష్యా దాడి? #TeluguNews #UkraineCrisis #Ukraine #Nuclearbomb #InternationalNews #Eenadu   crisis: The West fights back against Putin the disruptor   BBC News  Several US presidents have failed to get the measure of him but now Europe has joined the fray things may change.   / #یوکرین 🇺🇦⚔️🇷🇺  چینی وزیر خارجہ: چین #UkraineCrisis پر ضروری ثالثی کا کردار ادا کرنے کے لیے تیار ہے۔  #Russia #Ukraine #China.Energy conference kicks off as Ukraine crisis leaves oil market in turmoil    \""
      ]
     },
     "execution_count": 96,
     "metadata": {},
     "output_type": "execute_result"
    }
   ],
   "source": []
  },
  {
   "cell_type": "code",
   "execution_count": 98,
   "id": "5ae5776b",
   "metadata": {},
   "outputs": [
    {
     "data": {
      "text/plain": [
       "'journalistes doivent cesser Nous ne faisons que notre travail Anne Nzouankeu WorldPressPhoto BBCWorld CBSNews VICENews Russie Ukraine UkraineConflit UkraineCrisis And now Ukraine crisis And we can add begging for fuel from Venezuela How much lower can we go ceasefire in Ukraine to allow more than 200 000 people to escape the fighting has failed with Russia accused of breaking the agreement and opening fire a claim the Kremlin denies UkraineCrisis UkraineRussiaCrisis Mariupol SNP could delay a second independence vote until after 2023 due to the Ukraine crisis according to the party s Westminster chief markets slide as Ukraine crisis raises inflation fears discusses Turkey s role in the ongoing Ukraine crisis and President Erdo an s phone call with President Putin Chinese Foreign Minister China is ready to play the necessary mediation role in the Ukraine crisis EmmaKennedy We took 28 500 fake refugees on the south coast alone plus another 275 000 legal immigrants it is early days in the Ukraine crisis we are still taking them from Syria and Afghanistan PUTIN S WAR Please media don t call it Ukraine Invasion Russia Ukraine War Ukraine Crisis etc This MUST be forever in the books as Putin s War UkraineRussia Putin Russian Ukraine I spoke with the AsharqNews channel for 20 minutes about the Ukraine crisis within the scope of China Russia Taiwan US relations introduces bill to target individuals including RussianArmy soldiers companies services and assets of those associated with the RussianInvasion of Ukraine UnitedWithUkraine Kyiv Kharkiv UkraineWar RussianMoney RussianMothers UkraineCrisis aighne kearney It could be argued had the commission o served the Ukraine crisis there may have been an additional LOA4 added LAO3 was based on the fact there wasn t a autocratic dictator invading neutral sovereignties in Europe when the findings were completed LBC NickFerrariLBC Hes only got himself embroiled in the Ukraine crisis to take the heat out of partygate very sly amp sneaky but he ll get caught he can t help himself DRUNK WITH POWER Refugees reporting and the far right how the Ukraine crisis reveals brutal everyday racism in Europe and beyond The Conversation crisis leads to disturbing reports of racism against students Nelson Mandela Foundation The Hindu I had Said that no matter what happens investment in India will keep increasing both by foreign companies as well as Indian companies despite Ukraine crisis Abhi tak woh sahi sidh ho raha hai Global Markets China stocks fall to 20 month low amid Ukraine crisis Covid 19 outbreaks Reuters a cost of living crisis the UK public can find 100m to donate to refugees In a humanitarian crisis GOVUK and ukhomeoffice can only help 50 refugees because of visas UkraineRussianWar UkraineCrisis crisis The West fights back against Putin the disruptor Strong economy to help PH brace for impact of Russia Ukraine crisis adviser wonder how to recognize a fake post Here is 5 ways to spot fake viral footage about Ukraine crisis UkraineCrisis HowTo ViralVideo out my latest article Russia Ukraine Crisis and its Geopolitical Aftermaths via LinkedIn RussianUkrainianWar UnitedNations VladimirPutin NarendraModi UNSC Ukraine NationalSecurity NFT Editorial Hub Four Payment Operators join in Suspending their Services in Russia amid Ukraine Crisis From NFT Ukraine crisis is giving us an insight into a New World Order It is now evident that the USA doesn t have the geo political clout it once commanded While China s might is steadily rising we are seeing the beginning of a multi polar world where India too is a major player Chinese Foreign Minister China is ready to play the necessary mediation role in the Ukraine crisis added Iran s policy is to oppose war as a solution to the Ukraine crisis Small Business Cybersecurity Concerns Amid Russia Ukraine Crisis Ukraine crisis continues to dominate and tear at Serbian conscience Morning headlines queasiness On India s stance in Russia Ukraine crisis Source TH Russia Ukraine crisis has already hit Thailand s import and export trade with both manufacturers and consumers suffering the indirect results of rising oil prices causing a spike in inflation the government said on Sunday Mar 6 Bangkok Post UPDATE The first British mercenaries arrive in Ukraine to take part in ongoing conflict against Russia RussiaUkraineConflict UkraineCrisis UkraineRussiaCrisis Russia WWIII RussiaUkraineCrisis UPDATE First time in History Gas price in Europe hits 2600 RussiaUkraineConflict UkraineCrisis UkraineRussiaCrisis Russia WWIII RussiaUkraineCrisis How the Ukraine crisis effects space programmes and means delays plus harsh lessons for India crosses 2 000 mark palladium at record high on Ukraine crisis BREAKING UPDATE A Russian ship has been hit In the Black Sea Claims Spokesman of Operational staff of the Odessa military administration RussiaUkraineConflict UkraineCrisis UkraineRussiaCrisis Russia WWIII RussiaUkraineCrisis Four Payment Operators Join in Suspending their Services in Russia amid Ukraine Crisis crisis makes oil at 130 150 a barrel very possible out Chelsea s new owner UkraineCrisis subhashmisra The West has made sure that alternate viewpoints of the Ukraine crisis are muted Social media platforms satellite channels and mainstream media have censored or blacked out these voices China s economy resilient despite uncertainties caused by Ukraine crisis state planner ne plus a l abri Ukraine une tape BREAKING UkraineInvasion UkraineCrisis OTAN WWIII China s economy resilient despite uncertainties caused by Ukraine crisis L economia cinese resiliente nonostante le incertezze causate dalla crisi Ucraina Ukraine Crisis Tommothebiglad JakiMakiMaki 888MumbaiMagic Laus5678 poncyvaper The cost of energy was increasing way before the Ukraine crisis would be a good idea to cut the Green Levy from our bills UkraineCrisis Russia Ukrainewar VolodymyrZelenskyy UkraineCrisis Russia Ukrainewar VolodymyrZelenskyy Saudi Russia Collusion Is Driving Up Gas Prices and Worsening Ukraine Crisis has sent 95 of its troops to Ukraine claims US Defense Department Watch for more details russia ukrainecrisis Crisis TeluguNews UkraineCrisis Ukraine Nuclearbomb InternationalNews Eenadu crisis The West fights back against Putin the disruptor BBC News Several US presidents have failed to get the measure of him but now Europe has joined the fray things may change UkraineCrisis Russia Ukraine China Energy conference kicks off as Ukraine crisis leaves oil market in turmoil '"
      ]
     },
     "execution_count": 98,
     "metadata": {},
     "output_type": "execute_result"
    }
   ],
   "source": [
    "re.sub('[^A-Za-z0-9]+', ' ', UK_elec)"
   ]
  },
  {
   "cell_type": "code",
   "execution_count": null,
   "id": "e68aa606",
   "metadata": {},
   "outputs": [],
   "source": []
  },
  {
   "cell_type": "code",
   "execution_count": 87,
   "id": "648a1e89",
   "metadata": {},
   "outputs": [
    {
     "data": {
      "text/plain": [
       "str"
      ]
     },
     "execution_count": 87,
     "metadata": {},
     "output_type": "execute_result"
    }
   ],
   "source": [
    "UK_elec"
   ]
  },
  {
   "cell_type": "code",
   "execution_count": 86,
   "id": "6b477b4e",
   "metadata": {},
   "outputs": [
    {
     "data": {
      "text/plain": [
       "\"journalistes doivent cesser. Nous ne faisons que notre travail. Anne Nzouankeu @WorldPressPhoto @BBCWorld @CBSNews @VICENews #Russie #Ukraine #UkraineConflit #UkraineCrisis  https://t.co/aaH8gup27z.@JoeBiden And now Ukraine crisis... And we can add begging for fuel from Venezuela... How much lower can we go?  https://t.co/gxtaV355cr.A ceasefire in Ukraine to allow more than 200,000 people to escape the fighting has failed, with Russia accused of breaking the agreement and opening fire - a claim the Kremlin denies. #UkraineCrisis #UkraineRussiaCrisis #Mariupol  https://t.co/hYxamvGZgx.The SNP could delay a second independence vote until after 2023 due to the Ukraine crisis, according to the party's Westminster chief.  https://t.co/x0Y3c5uI7O.Asian markets slide as Ukraine crisis raises inflation\\xa0fears  https://t.co/rKszEnTDDn.@DilaraAslanDS discusses #Turkey's role in the ongoing #Ukraine crisis and President #Erdoğan's phone call with President #Putin.  https://t.co/MZtf6guA8E.#BREAKING Chinese Foreign Minister: “#China is ready to play the necessary mediation role in the #Ukraine crisis.”.@EmmaKennedy We took 28,500 fake refugees on the south coast alone…plus another 275,000 legal immigrants…it is early days in the #Ukraine crisis…we are still taking them from Syria and Afghanistan..PUTIN’S WAR.  Please media, don’t call it Ukraine Invasion, Russia-Ukraine War, Ukraine Crisis, etc.  This MUST be forever in the books as “Putin’s War.”  #UkraineRussia #Putin #Russian #Ukraine.I spoke with the @AsharqNews channel for 20 minutes about the #Ukraine crisis within the scope of China-Russia-Taiwan-US relations.  https://t.co/0jC4tp15av.#NewZealand introduces bill to target individuals (including #RussianArmy soldiers), companies, services, and assets of those associated with the #RussianInvasion of #Ukraine. __________ #UnitedWithUkraine #Kyiv #Kharkiv #UkraineWar #RussianMoney #RussianMothers #UkraineCrisis.@aighne_kearney It could be argued had the commission o served the Ukraine crisis, there may have been an additional LOA4 added. LAO3 was based on the fact there wasn’t a autocratic dictator invading neutral sovereignties in Europe when the findings were completed.@LBC @NickFerrariLBC Hes only got himself  embroiled  in the Ukraine crisis to take the heat out of partygate very sly &amp; sneaky 🤔 but he'll get caught he can't help himself DRUNK WITH POWER.Refugees, reporting and the far right: how the Ukraine crisis reveals brutal 'everyday racism' in Europe and beyond - The Conversation  https://t.co/38CbEypKJH.Ukraine crisis leads to 'disturbing' reports of racism against students: Nelson Mandela Foundation - The Hindu  https://t.co/2wpGiqVXP5.@CKsays_ I had Said that no matter what happens investment in  India will keep increasing both by foreign companies as well as Indian companies despite Ukraine crisis. Abhi tak woh sahi sidh ho raha hai..Global Markets: China stocks fall to 20-month low amid Ukraine crisis, Covid-19 outbreaks - Reuters  https://t.co/23VlSlSnsl.In a cost of living crisis, the UK public can find £100m to donate to refugees. In a humanitarian crisis @GOVUK and @ukhomeoffice can only help 50 refugees because of visas. #UkraineRussianWar #UkraineCrisis   https://t.co/2VUhCpp3Wg.Ukraine crisis: The West fights back against Putin the disruptor  https://t.co/u3tWShxMHd  https://t.co/fygEAuigoc.ABSCBNNews: Strong economy to help PH brace for impact of Russia-Ukraine crisis: adviser  https://t.co/AQ3001d0ii.You wonder how to recognize a fake post. Here is 5 ways to spot fake viral footage about #Ukraine️ crisis. . #UkraineCrisis #HowTo #ViralVideo   https://t.co/Qo2RGPCSeZ.Check out my latest article: Russia- Ukraine Crisis and its Geopolitical Aftermaths  https://t.co/JVN7nhkmH4 via @LinkedIn   #RussianUkrainianWar #UnitedNations #VladimirPutin #NarendraModi #UNSC #Ukraine️ #NationalSecurity.✍ NFT Editorial Hub 🌐  Four Payment Operators join in Suspending their Services in Russia amid Ukraine Crisis From:    https://t.co/9iZ2IrXErs #NFT.Ukraine crisis is giving us an insight into a New World Order. It is now evident that the USA doesn't have the geo-political clout it once commanded.  While China's might is steadily rising, we are seeing the beginning of a multi-polar world where India too is a major player.🚨🇨🇳Chinese Foreign Minister: China is ready to play the necessary mediation role in the #Ukraine crisis.  https://t.co/gSd3QAdGoh.Khatibzadeh added, Iran's policy is to oppose war as a solution to the Ukraine crisis.Small Business Cybersecurity Concerns Amid Russia-Ukraine Crisis   https://t.co/NLoFDMB6Tn.The Ukraine crisis continues to dominate, and tear at, Serbian conscience   | Morning headlines   https://t.co/MKuLrZ1io9  https://t.co/KfCV5NGUjL.Quadrilateral queasiness: On India’s stance in Russia-Ukraine crisis  Source- TH  https://t.co/FmP6FedOxi.The #Russia-#Ukraine crisis has already hit #Thailand's #import and #export #trade, with both manufacturers and consumers suffering the indirect results of rising oil prices causing a spike in inflation, the government said on Sunday (Mar 6).—Bangkok Post   https://t.co/FJ2B3umX5V.#BREAKING #UPDATE  The first British mercenaries arrive in Ukraine to take part in ongoing conflict against Russia  #RussiaUkraineConflict #UkraineCrisis #UkraineRussiaCrisis #Russia #WWIII #RussiaUkraineCrisis  https://t.co/JtN4qmXeWe.#BREAKING #UPDATE  First time in History, Gas price in Europe hits $2600  #RussiaUkraineConflict #UkraineCrisis #UkraineRussiaCrisis #Russia #WWIII #RussiaUkraineCrisis.How the #Ukraine crisis effects space programmes, and means delays plus harsh lessons for India   https://t.co/NGLMHtAcl1.PRECIOUS-Gold crosses $2,000 mark, palladium at record high on Ukraine crisis.#BREAKING #UPDATE  A Russian ship has been 'hit' In the Black Sea - Claims Spokesman of Operational staff of the Odessa military administration  #RussiaUkraineConflict #UkraineCrisis #UkraineRussiaCrisis #Russia #WWIII #RussiaUkraineCrisis.Four Payment Operators Join in Suspending their Services in Russia amid Ukraine Crisis  https://t.co/laHpqUdEMJ.Ukraine crisis makes oil at $130-150 a barrel very possible  https://t.co/Z1UU4O9doF.Check out, Chelsea's new owner  https://t.co/imtY03xzuI  #UkraineCrisis !.@subhashmisra The West has made sure that alternate viewpoints of the Ukraine crisis are muted. Social media platforms, satellite channels and mainstream media have censored or blacked out these voices..China's economy resilient despite uncertainties caused by Ukraine crisis - state planner  https://t.co/XHpItaKSl9.L'Europe ne plus a l'abri Ukraine une étape #BREAKING #UkraineInvasion #UkraineCrisis #OTAN #WWIII.‼️China's economy resilient despite uncertainties caused by Ukraine crisis  ‼️L'economia cinese è resiliente nonostante le incertezze causate dalla crisi Ucraina. https://t.co/GbGyJ58dJO.Russia Ukraine Crisis: यूक्रेन से जौनपुर लौटी बेटी को देख मां-बाप की आंखें हुईं नम, पीएम मोदी का किया शुक्रिया  https://t.co/lrqzyb7GgA  https://t.co/TSZ80zg6gC.@PolinaM36 @Tommothebiglad @JakiMakiMaki @888MumbaiMagic @Laus5678 @poncyvaper The cost of energy was increasing way before the Ukraine crisis, would be a good idea to cut the ‘Green Levy’ from our bills..'ഒരിക്കലും മറക്കില്ല, പൊറുക്കില്ല, വെറുതെ വിടുകയുമില്ല'; രോഷാകുലനായി സെലന്\\u200dസ്\\u200cകി #UkraineCrisis #Russia-Ukrainewar #VolodymyrZelenskyy  https://t.co/O1TRjxqlyf.'ഒരിക്കലും മറക്കില്ല, പൊറുക്കില്ല, വെറുതെ വിടുകയുമില്ല'; രോഷാകുലനായി സെലന്\\u200dസ്\\u200cകി #UkraineCrisis #Russia-Ukrainewar #VolodymyrZelenskyy  https://t.co/aMjJn64G5y.Look: Saudi-Russia Collusion Is Driving Up Gas Prices — and Worsening Ukraine Crisis  https://t.co/mmrJY24N2l  https://t.co/3CgiaWuiEj.Russia has sent 95% of its troops to Ukraine, claims US Defense Department | Watch for more details #russia #ukrainecrisis  https://t.co/VUQiXp4KKD.Ukraine Crisis: అణుబాంబు తయారీకి ఉక్రెయిన్\\u200c ప్రణాళిక! అందుకే రష్యా దాడి? #TeluguNews #UkraineCrisis #Ukraine #Nuclearbomb #InternationalNews #Eenadu  https://t.co/lxePWjFp99.Ukraine crisis: The West fights back against Putin the disruptor  https://t.co/fLtE0HsxOm BBC News  Several US presidents have failed to get the measure of him but now Europe has joined the fray things may change.  https://t.co/T7B3hEZ5bK.#روس / #یوکرین 🇺🇦⚔️🇷🇺  چینی وزیر خارجہ: چین #UkraineCrisis پر ضروری ثالثی کا کردار ادا کرنے کے لیے تیار ہے۔  #Russia #Ukraine #China.Energy conference kicks off as Ukraine crisis leaves oil market in turmoil  https://t.co/2puqksDAzD  https://t.co/JlyndtbAMy\""
      ]
     },
     "execution_count": 86,
     "metadata": {},
     "output_type": "execute_result"
    }
   ],
   "source": [
    "UK_elec"
   ]
  },
  {
   "cell_type": "code",
   "execution_count": 84,
   "id": "bbf02b7d",
   "metadata": {},
   "outputs": [
    {
     "data": {
      "text/plain": [
       "'New photo posted in Isaacranty free services: \\'Newcastle United have conceded the least amount of goals in the Premier League in 2022 [3].   👏👏👏\\'  https://t.co/9LG1PTpuWS  https://t.co/4ggs7zSem4.07/03/2022   ⚽️ football tips   🏴\\U000e0067\\U000e0062\\U000e0065\\U000e006e\\U000e0067\\U000e007f Premier League   Tottenham ⚪ - Everton 🔵 Total goals over 2.5   1.72  #88goals .com Bet here ➡️  https://t.co/QGwezaJIpD  #panodds #bettingtips.IPL 2022: Full schedule of matches, venues, and timings Defending champions Chennai Super Kings will face Kolkata Knight Riders in the opening game of the 15th edition of the Indian Premier League (IPL) at the Wankhede st... #Sports by #TimesofIndia  https://t.co/o6Hx5xDgdc.07/03/2022 12:00(CET) #KrasnodarFK vs #Ural #livestream available, Russian Premier League, Russia Streaming Providers: 1  https://t.co/61xLkthn6h.WELSH PREMIER LEAGUE  2022/03/05 Barry Town United 0 - 1 Haverfordwest County Cardiff MU 0 - 0 Connah\\'s Quay Penybont 0 - 3 Caernarfon Town  2022/03/04 Cefn Druids 3 - 3 Aberystwyth Town Flint Town United 1 - 2 The New Saints Newtown 0 - 2 Bala Town  https://t.co/yeYeXg7Hip.Krasnodar FK Ural Free Live Football Streaming: 07/03/2022 12:00(CET) #KrasnodarFK vs #Ural #livestream available, Russian Premier League, Russia Streaming Providers: 1  https://t.co/Fh6mppMjGA.𝐌𝐀𝐓𝐂𝐇𝐃𝐀𝐘! ⚪️🐓  📆 7th March 2022 (20:00) 🖥 Sky Sports 🏟 Tottenham Hotspur Stadium 🆚 Everton 🏆 Premier League MD 26  💭 Let us know your score predictions for today’s game down below👇  🎨 @spursprogram on Instagram.  #TOTEVE #THFC #SpursArmy  https://t.co/GvTeswtoSd.Mark Rene Mampassi (18 years) played 94 minutes for Lokomotiv Moskva as a Defender.  Game: Lokomotiv Moskva - Khimki, 3 - 2 from Premier League, Russia Date: 2022-03-06  https://t.co/9MpcN4XubP #LokomotivMoskva #scouting #football.Yesterday was more an Arsene Wenger game 2006-18 (amazing attack, lack of focus and attitude in defending) than Mikel Arteta game who wants more control.  If we\\'re gonna reach top4 in Premier League 2022 we need more Arteta and less Wenger 06-18.   https://t.co/A18UiyfZ7B.¿El golazo del 2022? Hispano Cucho Hernández marcó un tanto en Premier League que competiría por el Premio Puskas [Video]  https://t.co/vfBTtRRo1p.Newcastle United is in 2022 ongeslagen in de Premier League en stoomt steeds verder op naar het linkerrijtje.    https://t.co/tmd7RiNHzO.The 2022 Indian Premier League (IPL) will start later this month, with spectators set to be welcomed back to stadiums, although at only 25 ...  Read full &gt;&gt;&gt;&gt;  https://t.co/mP1uZkD4R1  https://t.co/zVxXEbdEvu.ちなみに公式の来季以降の放送局リストにはまだ日本は見当たらない。サブライセンス等の交渉中ということなんだろう。  Premier League broadcast deals for 2022-2025 and beyond via @premierleague  https://t.co/myGBkQKuG7.The Indian Premier League is the most popular T20 tournament in the world, hosted by BCCI every year from April to May. In 2022. If you want to know which team will win IPL 2022, hit the link here:  https://t.co/JdrIDI9nav #IPL2022 #IPL #iplschedule #iplupdates #IPLT20  https://t.co/WJ8MPKT9xi.The Board of Control for Cricket in India (#BCCI) on Sunday announced the schedule for the league matches of the Indian Premier League (#IPL) 2022 which will be held in #Mumbai and #Pune.   https://t.co/QjxcGf5Y9A.@AddingRandomWit Premier League Table for all games played in 2022 from 1st January to 6th March    https://t.co/YuoxqnRw2i  https://t.co/AsVIipjZZs.Arsen Zakharyan (18 years) played 97 minutes for Dinamo Moskva as a Midfielder.  Game: Dinamo Moskva - Spartak Moskva, 0 - 2 from Premier League, Russia Date: 2022-03-06  https://t.co/RUMpah53jo #DinamoMoskva #scouting #football.The Premier League has not published details of TV distributions for the last 2 seasons, but #CFC earned £146m in 2019. The new TV deal for 2022- 25 is up 14% over the current deal to £10.3 bln, based on media reports, thanks to surging overseas deals, especially NBC in USA.  https://t.co/yMGqa2nrGp.IPL 2022 Live on Sony Six TV Channel - IPL Today Match - IPL 2022 Live on Sony Six TV Channel in India. IPL 2022 live TV channel. Watch IPL 2022 Live Streaming on Sony Six Television Channel. Watch IPL today’s match of Indian Premier League...  https://t.co/uZC8eaoptf.IPL 2022: Full schedule of matches, venues, and timings: Defending champions Chennai Super Kings will face Kolkata Knight Riders in the opening game of the 15th edition of the Indian Premier League (IPL) at the Wankhede stadium here on March 26. Here\\'s…  https://t.co/YJQzfsMVfI  https://t.co/uDgXbIk5HG.Manchester United have failed to have a single shot in the second half of a Premier League game just two times in the last six seasons:   ◉ vs. Liverpool (2017)  ◉ vs. Man City (2022)  @Squawka  https://t.co/vcPJIVKv5F.We\\'re 3 months into 2022 and Spurs are yet to win a game at home in the Premier League 💀.The Board of Control for Cricket in India (BCCI) on Sunday announced the schedule for the league matches of the Indian Premier League (IPL) 2022 which will be held in Mumbai and Pune. The current season of IPL will begin on March 26 at the Wankhede stadium with a clash between Ch  https://t.co/NS5SIQa60d.2022 AIA Singapore Premier League  - CURRENT STANDINGS   #AFF #FAS Graphic Courtesy #SPL  https://t.co/hCVWCjjALZ.¿El golazo del 2022? Hispano Cucho Hernández marcó un tanto en @premierleague que competiría por el Premio Puskas [Video]  https://t.co/QqKRnAUuk2.CAMBODIAN PREMIER LEAGUE? Or 2022 METFONE CAMBODIAN LEAGUE?  https://t.co/nJDfL35NgI.IPL Winners List: Season-by-Season Champions, Most Title Wins in Indian Premier League Ahead of 2022 Edition #IPL #IPL2022  https://t.co/zWnMHt4q8o.IPL 2022 Schedule and Today Match Result - IPL Today Match - IPL 2022 Schedule. IPL 2022 Schedule is released today. TATA IPL 2022 Match Schedule and Fixtures. BCCI has announced the Indian Premier League T20 match schedule. IPL 2022 Fixtures...  https://t.co/kbWaDE7kMD.IPL 2022 Full Schedule: Complete fixtures, match dates and timings, venues of all Indian Premier League matches – Firstcricket News,\\xa0Firstpost  https://t.co/Fri3UDP8KW.Tottenham Hotspur v Everton FC All-Time Match Records 1897-2022 ahead of Monday night\\'s Premier League game at the New Spurs Stadium  Spurs have taken more PL Points from Everton (104) than any other Club they\\'ve faced  #COYS #THFC #EFC   https://t.co/OcA1M9a3bw  https://t.co/UK3Eb4tTnD.🏆 NBC PREMIER LEAGUE   ⚽️ Simba SC vs Dodoma Jiji    📆 Today, 7 MAR 2022 🏟 Benjamin Mkapa Stadium 🕛 19:00 🌑 📺 Azam Television  https://t.co/HP8oEl5ZCQ.Premier League Table for all games played in 2022 from 1st January to 6th March ahead of Tottenham Hotspur v Everton tonight   #COYS #EFC   https://t.co/YuoxqnRw2i  https://t.co/KmZcKUw8BN.The great goal of 2022? Hispanic Cucho Hernández scored a goal in the Premier League that would compete for the Puskas Award\\xa0[Video]  https://t.co/ePbu27n8Zs.Bangladesh Premier League 2021- 2022  Match 41 | BD Police FC v Swadhinata KS  Match 42 | Muktijoddha SKC v Rahmatganj MFS  https://t.co/35Ob77nzka.#Football🇱🇸 Sources informed me Galaxy FC head coach Thabang \"Stuff\" Busa likely to leave the team after several elite clubs showed interest in his services for 2022/23.  He guided the club to premier league twice, 2017/18, relegated 2018/19 and returned 2020/21. ⚽️⚽️🇱🇸  https://t.co/tt01g6Nsym.Partidos de hoy, 7 de marzo: horarios y canales de TV EN VIVO para ver Liga 1, LaLiga y Premier League: Fútbol en vivo | Horarios y canales de TV para ver los partidos de hoy, 7 de marzo de 2022.  https://t.co/UEFUK4wqIb.5 most in-form Premier League players in the right now - March 2022  https://t.co/lEZriPN3Dz  #PremierLeague #eplas #EPL #prem_space.@ChennaiIPL @RCBTweets @KKRiders @mipaltan @rajasthanroyals @gujarat_titans @LucknowIPL @SunRisers @PunjabKingsIPL DC IPL 2022 Schedule: Delhi Capitals Matches in Indian Premier League Season 15 With Full Timetable and Venue Details #DC #IPL2022 @DelhiCapitals  https://t.co/zorxdqZmKY.URI PREMIER LEAGUE 2022  https://t.co/1hCwyjzbN4.2022-03-07 Bulgarian Premier League Slavia Sofia VS Lokomotiv Sofia  Recommended: Tie [1.95 hemisphere 1.75] The two teams have not performed well recently, and they have both suffered a losing streak. This time, the possibility of a fierce battle is not low.  https://t.co/YDklK4wPEM.Resultados de los partidos de hoy, Fecha 28, Premier League, Temporada 2021-2022.  #DeportePicante #PremierLeague  https://t.co/P9LTZupZXE.BIG MATCH Premier League 2021/22  🏆Tottenham vs Everton ⚽Premier League ☎Selasa/08 Maret 2022 ⏱️03.00 WIB 🏟Tottenham Hotspur Stadium  #Tottenham #Everton #TOTEVE #PremierLeague #jadwalbola #beritabola #maniakbola #peminatbola #seputarduniasepakbola #pecintabola  https://t.co/RMMjCxPxID.@ChennaiIPL @RCBTweets @KKRiders @mipaltan @rajasthanroyals @gujarat_titans @LucknowIPL @SunRisers PBKS IPL 2022 Schedule: Punjab Kings Matches in Indian Premier League Season 15 With Full Timetable and Venue Details #PBKS #IPL2022 @PunjabKingsIPL   https://t.co/qfSg8L4JTi.@ChennaiIPL @RCBTweets @KKRiders @mipaltan @rajasthanroyals @gujarat_titans @LucknowIPL SRH IPL 2022 Schedule: Sunrisers Hyderabad Matches in Indian Premier League Season 15 With Full Timetable and Venue Details #SRH #IPL2022 @SunRisers  https://t.co/YdtoWkuAOH.@ChennaiIPL @RCBTweets @KKRiders @mipaltan @rajasthanroyals @gujarat_titans LSG IPL 2022 Schedule: Lucknow Super Giants Matches in Indian Premier League Season 15 With Full Timetable and Venue Details #LSG #IPL2022 @LucknowIPL  https://t.co/PMlOAo5YXt.Here are todays (2022-03-07) Premier League fixtures: #PremierLeague #PremierLeagueFixtures #BPL #PL #EPL #PLFixtures #EPLFixtures More info at  https://t.co/59potG8B4i  https://t.co/PYwg5n2GMk.@ChennaiIPL @RCBTweets @KKRiders @mipaltan @rajasthanroyals GT IPL 2022 Schedule: Gujarat Titans Matches in Indian Premier League Season 15 With Full Timetable and Venue Details #GT #IPL2022 @gujarat_titans  https://t.co/D8O4aRP34t.KKR IPL 2022 Schedule: Kolkata Knight Riders Matches in Indian Premier League Season 15 With Full Timetable and Venue\\xa0Details  https://t.co/oSviwMGix5.@ChennaiIPL @RCBTweets @KKRiders @mipaltan RR IPL 2022 Schedule: Rajasthan Royals Matches in Indian Premier League Season 15 With Full Timetable and Venue Details #RR #IPL2022 @rajasthanroyals  https://t.co/trxW5rv9CJ'"
      ]
     },
     "execution_count": 84,
     "metadata": {},
     "output_type": "execute_result"
    }
   ],
   "source": [
    "PL_elec"
   ]
  }
 ],
 "metadata": {
  "kernelspec": {
   "display_name": "Python 3 (ipykernel)",
   "language": "python",
   "name": "python3"
  },
  "language_info": {
   "codemirror_mode": {
    "name": "ipython",
    "version": 3
   },
   "file_extension": ".py",
   "mimetype": "text/x-python",
   "name": "python",
   "nbconvert_exporter": "python",
   "pygments_lexer": "ipython3",
   "version": "3.9.7"
  }
 },
 "nbformat": 4,
 "nbformat_minor": 5
}
