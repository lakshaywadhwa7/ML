{
 "cells": [
  {
   "cell_type": "code",
   "execution_count": 1,
   "id": "e87d4d1e",
   "metadata": {},
   "outputs": [],
   "source": [
    "import fasttext"
   ]
  },
  {
   "cell_type": "code",
   "execution_count": 2,
   "id": "a5998995",
   "metadata": {},
   "outputs": [
    {
     "name": "stderr",
     "output_type": "stream",
     "text": [
      "Warning : `load_model` does not return WordVectorModel or SupervisedModel any more, but a `FastText` object which is very similar.\n"
     ]
    }
   ],
   "source": [
    "model = fasttext.load_model('/Users/lakshaywadhwa/Downloads/cc.hi.300.bin')"
   ]
  },
  {
   "cell_type": "code",
   "execution_count": 3,
   "id": "e664e441",
   "metadata": {},
   "outputs": [],
   "source": [
    "import nltk\n",
    "import pandas as pd\n",
    "#from sentence_transformers import SentenceTransformer\n",
    "from nltk.cluster import KMeansClusterer\n",
    "import numpy as np"
   ]
  },
  {
   "cell_type": "code",
   "execution_count": 4,
   "id": "690d36e1",
   "metadata": {},
   "outputs": [],
   "source": [
    "import nltk"
   ]
  },
  {
   "cell_type": "code",
   "execution_count": 5,
   "id": "7320577d",
   "metadata": {},
   "outputs": [
    {
     "name": "stderr",
     "output_type": "stream",
     "text": [
      "[nltk_data] Downloading package punkt to\n",
      "[nltk_data]     /Users/lakshaywadhwa/nltk_data...\n",
      "[nltk_data]   Package punkt is already up-to-date!\n"
     ]
    },
    {
     "data": {
      "text/plain": [
       "True"
      ]
     },
     "execution_count": 5,
     "metadata": {},
     "output_type": "execute_result"
    }
   ],
   "source": [
    "nltk.download('punkt')"
   ]
  },
  {
   "cell_type": "code",
   "execution_count": 6,
   "id": "c1daafe0",
   "metadata": {},
   "outputs": [],
   "source": [
    "def max_only(lst):\n",
    "    filtered_lst=[x for x in lst if len(x)>70]\n",
    "    return filtered_lst"
   ]
  },
  {
   "cell_type": "code",
   "execution_count": 7,
   "id": "db9e9c09",
   "metadata": {},
   "outputs": [],
   "source": [
    "article='''\n",
    "बुंदेलखंड एक्सप्रेसवे (Bundelkhand Expressway) का बताकर एक वीडियो सोशल मीडिया पर वायरल हो रहा है. वीडियो में एक टूटा हुआ पुल देखा जा सकता है. वीडियो शेयर कर बीजेपी (BJP) और पीएम नरेंद्र मोदी (Narendra Modi) पर कटाक्ष किया जा रहा है. हाल में बुंदेलखंड एक्सप्रेसवे के उद्घाटन के बाद इसके क्षतिग्रस्त होने की खबरें आई थीं. ऐसे में ये दावा वायरल हो रहा है. हालांकि, पड़ताल में हमने पाया कि वायरल वीडियो बुंदेलखंड एक्सप्रेसवे का नहीं, बल्कि मध्य प्रदेश में कलियासोत नदी पर बने पुल का है. घटना रायसेन जिले के मंडीदीप इलाके में नेशनल हाईवे 46 की है. वायरल वीडियो के की-फ्रेम्स को गूगल पर रिवर्स सर्च करने से हमें 25 जुलाई 2022 की Aaj Tak पर पब्लिश एक रिपोर्ट मिली, जिसमें इस वीडियो के स्क्रीनशॉट इस्तेमाल किए गए थे. स्टोरी के मुताबिक, मध्य प्रदेश के मंडीदीप इलाके में कलियासोत नदी में बना पुल और रोड क्षतिग्रस्त हो गए. घटना से संबंधित India Today की भी एक रिपोर्ट हमें मिली, यहां भी इस वीडियो को मध्य प्रदेश के रायसेन जिले के मंडीदीप इलाके का बताया गया है. रिपोर्ट के मुताबिक, NH46 में कलियासोत नदी पर बने इस पुल की लागत 500 करोड़ से ज्यादा बताई गई है. इस घटना का वीडियो कांग्रेस नेता कमलनाथ ने भी ट्वीट किया है. उनके कैप्शन के मुताबिक वीडियो मध्यप्रदेश में भोपाल-होशंगाबाद को जोड़ने वाले नेशनल हाईवे का है और मंडीदीप इलाके का है. हमें वायरल वीडियो का लंबा वर्जन India Today के ऑफिशियल यूट्यूब हैंडल पर मिला, जिसे 25 जुलाई को अपलोड किया गया था.\n",
    "'''"
   ]
  },
  {
   "cell_type": "code",
   "execution_count": 13,
   "id": "0bcab2e6",
   "metadata": {},
   "outputs": [],
   "source": [
    "def get_sentence_embeddings(sentence):\n",
    "    embedding = model[sentence]\n",
    "    return embedding"
   ]
  },
  {
   "cell_type": "code",
   "execution_count": 18,
   "id": "e3dcb0a6",
   "metadata": {},
   "outputs": [],
   "source": [
    "from scipy.spatial import distance_matrix\n",
    "def distance_from_centroid(row):\n",
    "    #type of emb and centroid is different, hence using tolist below\n",
    "    return distance_matrix([row['embeddings']], [row['centroid'].tolist()])[0][0]\n",
    "# data['distance_from_centroid'] = data.apply(distance_from_centroid, axis=1)"
   ]
  },
  {
   "cell_type": "code",
   "execution_count": 21,
   "id": "d5349efa",
   "metadata": {},
   "outputs": [],
   "source": [
    "def clustering(article):\n",
    "    NUM_CLUSTERS=2\n",
    "    iterations=25\n",
    "    sentences=nltk.sent_tokenize(article)\n",
    "    # strip leading and trailing spaces\n",
    "    sentences = [sentence.strip() for sentence in sentences]\n",
    "    sentences=max_only(sentences)\n",
    "    data = pd.DataFrame(sentences)\n",
    "    data.columns=['sentence']\n",
    "    data['embeddings']=data['sentence'].apply(get_sentence_embeddings)\n",
    "    X = np.array(data['embeddings'].tolist())\n",
    "    kclusterer = KMeansClusterer(\n",
    "    NUM_CLUSTERS, distance=nltk.cluster.util.cosine_distance,\n",
    "    repeats=iterations,avoid_empty_clusters=True)\n",
    "    assigned_clusters = kclusterer.cluster(X, assign_clusters=True)\n",
    "    data['cluster']=pd.Series(assigned_clusters, index=data.index)\n",
    "    data['centroid']=data['cluster'].apply(lambda x: kclusterer.means()[x])\n",
    "    data['distance_from_centroid'] = data.apply(distance_from_centroid, axis=1)\n",
    "    summary=' '.join(data.sort_values('distance_from_centroid',ascending = True).groupby('cluster').head(1).sort_index()['sentence'].tolist())\n",
    "    return summary\n",
    "    \n",
    "    \n",
    "    \n",
    "    \n",
    "    \n",
    "    \n",
    "    \n",
    "    \n",
    "    "
   ]
  },
  {
   "cell_type": "code",
   "execution_count": 22,
   "id": "976e8cd8",
   "metadata": {},
   "outputs": [
    {
     "name": "stdout",
     "output_type": "stream",
     "text": [
      "हालांकि, पड़ताल में हमने पाया कि वायरल वीडियो बुंदेलखंड एक्सप्रेसवे का नहीं, बल्कि मध्य प्रदेश में कलियासोत नदी पर बने पुल का है. वायरल वीडियो के की-फ्रेम्स को गूगल पर रिवर्स सर्च करने से हमें 25 जुलाई 2022 की Aaj Tak पर पब्लिश एक रिपोर्ट मिली, जिसमें इस वीडियो के स्क्रीनशॉट इस्तेमाल किए गए थे.\n"
     ]
    }
   ],
   "source": [
    "print(clustering(article))"
   ]
  }
 ],
 "metadata": {
  "kernelspec": {
   "display_name": "Python 3 (ipykernel)",
   "language": "python",
   "name": "python3"
  },
  "language_info": {
   "codemirror_mode": {
    "name": "ipython",
    "version": 3
   },
   "file_extension": ".py",
   "mimetype": "text/x-python",
   "name": "python",
   "nbconvert_exporter": "python",
   "pygments_lexer": "ipython3",
   "version": "3.9.7"
  }
 },
 "nbformat": 4,
 "nbformat_minor": 5
}
